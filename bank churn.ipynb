{
 "cells": [
  {
   "cell_type": "code",
   "execution_count": 8,
   "id": "a14ef912",
   "metadata": {},
   "outputs": [],
   "source": [
    "import matplotlib.pyplot as plt\n",
    "import numpy as np\n",
    "import pandas as pd\n",
    "import seaborn as sns # better plotting and aesthetics\n",
    "from pathlib import Path # just a utility for better cross-platform file-loading\n",
    "from scipy.io import loadmat\n",
    "from sklearn.neighbors import KNeighborsClassifier \n",
    "from sklearn.metrics import accuracy_score,roc_auc_score, f1_score\n",
    "from sklearn.ensemble import RandomForestClassifier, AdaBoostClassifier\n",
    "from sklearn.model_selection import StratifiedKFold, train_test_split, GridSearchCV\n",
    "from sklearn.neighbors import KNeighborsClassifier\n",
    "from sklearn.preprocessing import MinMaxScaler, LabelEncoder\n",
    "from sklearn.svm import SVC"
   ]
  },
  {
   "cell_type": "code",
   "execution_count": 5,
   "id": "5bbcfc00",
   "metadata": {},
   "outputs": [],
   "source": [
    "data = pd.read_csv('Bank Customer Churn Prediction.csv')"
   ]
  },
  {
   "cell_type": "code",
   "execution_count": 6,
   "id": "f89fa75f",
   "metadata": {},
   "outputs": [],
   "source": [
    "data = data.drop('customer_id', axis = 1)"
   ]
  },
  {
   "cell_type": "code",
   "execution_count": 7,
   "id": "787085c0",
   "metadata": {},
   "outputs": [
    {
     "data": {
      "text/html": [
       "<div>\n",
       "<style scoped>\n",
       "    .dataframe tbody tr th:only-of-type {\n",
       "        vertical-align: middle;\n",
       "    }\n",
       "\n",
       "    .dataframe tbody tr th {\n",
       "        vertical-align: top;\n",
       "    }\n",
       "\n",
       "    .dataframe thead th {\n",
       "        text-align: right;\n",
       "    }\n",
       "</style>\n",
       "<table border=\"1\" class=\"dataframe\">\n",
       "  <thead>\n",
       "    <tr style=\"text-align: right;\">\n",
       "      <th></th>\n",
       "      <th>credit_score</th>\n",
       "      <th>country</th>\n",
       "      <th>gender</th>\n",
       "      <th>age</th>\n",
       "      <th>tenure</th>\n",
       "      <th>balance</th>\n",
       "      <th>products_number</th>\n",
       "      <th>credit_card</th>\n",
       "      <th>active_member</th>\n",
       "      <th>estimated_salary</th>\n",
       "      <th>churn</th>\n",
       "    </tr>\n",
       "  </thead>\n",
       "  <tbody>\n",
       "    <tr>\n",
       "      <th>0</th>\n",
       "      <td>619</td>\n",
       "      <td>France</td>\n",
       "      <td>Female</td>\n",
       "      <td>42</td>\n",
       "      <td>2</td>\n",
       "      <td>0.00</td>\n",
       "      <td>1</td>\n",
       "      <td>1</td>\n",
       "      <td>1</td>\n",
       "      <td>101348.88</td>\n",
       "      <td>1</td>\n",
       "    </tr>\n",
       "    <tr>\n",
       "      <th>1</th>\n",
       "      <td>608</td>\n",
       "      <td>Spain</td>\n",
       "      <td>Female</td>\n",
       "      <td>41</td>\n",
       "      <td>1</td>\n",
       "      <td>83807.86</td>\n",
       "      <td>1</td>\n",
       "      <td>0</td>\n",
       "      <td>1</td>\n",
       "      <td>112542.58</td>\n",
       "      <td>0</td>\n",
       "    </tr>\n",
       "    <tr>\n",
       "      <th>2</th>\n",
       "      <td>502</td>\n",
       "      <td>France</td>\n",
       "      <td>Female</td>\n",
       "      <td>42</td>\n",
       "      <td>8</td>\n",
       "      <td>159660.80</td>\n",
       "      <td>3</td>\n",
       "      <td>1</td>\n",
       "      <td>0</td>\n",
       "      <td>113931.57</td>\n",
       "      <td>1</td>\n",
       "    </tr>\n",
       "    <tr>\n",
       "      <th>3</th>\n",
       "      <td>699</td>\n",
       "      <td>France</td>\n",
       "      <td>Female</td>\n",
       "      <td>39</td>\n",
       "      <td>1</td>\n",
       "      <td>0.00</td>\n",
       "      <td>2</td>\n",
       "      <td>0</td>\n",
       "      <td>0</td>\n",
       "      <td>93826.63</td>\n",
       "      <td>0</td>\n",
       "    </tr>\n",
       "    <tr>\n",
       "      <th>4</th>\n",
       "      <td>850</td>\n",
       "      <td>Spain</td>\n",
       "      <td>Female</td>\n",
       "      <td>43</td>\n",
       "      <td>2</td>\n",
       "      <td>125510.82</td>\n",
       "      <td>1</td>\n",
       "      <td>1</td>\n",
       "      <td>1</td>\n",
       "      <td>79084.10</td>\n",
       "      <td>0</td>\n",
       "    </tr>\n",
       "  </tbody>\n",
       "</table>\n",
       "</div>"
      ],
      "text/plain": [
       "   credit_score country  gender  age  tenure    balance  products_number  \\\n",
       "0           619  France  Female   42       2       0.00                1   \n",
       "1           608   Spain  Female   41       1   83807.86                1   \n",
       "2           502  France  Female   42       8  159660.80                3   \n",
       "3           699  France  Female   39       1       0.00                2   \n",
       "4           850   Spain  Female   43       2  125510.82                1   \n",
       "\n",
       "   credit_card  active_member  estimated_salary  churn  \n",
       "0            1              1         101348.88      1  \n",
       "1            0              1         112542.58      0  \n",
       "2            1              0         113931.57      1  \n",
       "3            0              0          93826.63      0  \n",
       "4            1              1          79084.10      0  "
      ]
     },
     "execution_count": 7,
     "metadata": {},
     "output_type": "execute_result"
    }
   ],
   "source": [
    "data.head()"
   ]
  },
  {
   "cell_type": "markdown",
   "id": "0b518a9c",
   "metadata": {},
   "source": [
    "### Preprocessing"
   ]
  },
  {
   "cell_type": "code",
   "execution_count": 8,
   "id": "a0703e4b",
   "metadata": {},
   "outputs": [
    {
     "data": {
      "text/plain": [
       "array(['France', 'Spain', 'Germany'], dtype=object)"
      ]
     },
     "execution_count": 8,
     "metadata": {},
     "output_type": "execute_result"
    }
   ],
   "source": [
    "data['country'].unique()"
   ]
  },
  {
   "cell_type": "code",
   "execution_count": 9,
   "id": "b64a2380",
   "metadata": {},
   "outputs": [],
   "source": [
    "le = LabelEncoder()\n",
    "data['country'] = le.fit_transform(data['country'])\n",
    "data['gender'] = le.fit_transform(data['gender'])"
   ]
  },
  {
   "cell_type": "code",
   "execution_count": 10,
   "id": "b72e6585",
   "metadata": {},
   "outputs": [
    {
     "data": {
      "text/plain": [
       "(array([0, 2, 1]), array([0, 1]))"
      ]
     },
     "execution_count": 10,
     "metadata": {},
     "output_type": "execute_result"
    }
   ],
   "source": [
    "data['country'].unique(), data['gender'].unique()"
   ]
  },
  {
   "cell_type": "code",
   "execution_count": 11,
   "id": "a5905122",
   "metadata": {},
   "outputs": [
    {
     "data": {
      "text/html": [
       "<div>\n",
       "<style scoped>\n",
       "    .dataframe tbody tr th:only-of-type {\n",
       "        vertical-align: middle;\n",
       "    }\n",
       "\n",
       "    .dataframe tbody tr th {\n",
       "        vertical-align: top;\n",
       "    }\n",
       "\n",
       "    .dataframe thead th {\n",
       "        text-align: right;\n",
       "    }\n",
       "</style>\n",
       "<table border=\"1\" class=\"dataframe\">\n",
       "  <thead>\n",
       "    <tr style=\"text-align: right;\">\n",
       "      <th></th>\n",
       "      <th>credit_score</th>\n",
       "      <th>country</th>\n",
       "      <th>gender</th>\n",
       "      <th>age</th>\n",
       "      <th>tenure</th>\n",
       "      <th>balance</th>\n",
       "      <th>products_number</th>\n",
       "      <th>credit_card</th>\n",
       "      <th>active_member</th>\n",
       "      <th>estimated_salary</th>\n",
       "      <th>churn</th>\n",
       "    </tr>\n",
       "  </thead>\n",
       "  <tbody>\n",
       "    <tr>\n",
       "      <th>0</th>\n",
       "      <td>619</td>\n",
       "      <td>0</td>\n",
       "      <td>0</td>\n",
       "      <td>42</td>\n",
       "      <td>2</td>\n",
       "      <td>0.00</td>\n",
       "      <td>1</td>\n",
       "      <td>1</td>\n",
       "      <td>1</td>\n",
       "      <td>101348.88</td>\n",
       "      <td>1</td>\n",
       "    </tr>\n",
       "    <tr>\n",
       "      <th>1</th>\n",
       "      <td>608</td>\n",
       "      <td>2</td>\n",
       "      <td>0</td>\n",
       "      <td>41</td>\n",
       "      <td>1</td>\n",
       "      <td>83807.86</td>\n",
       "      <td>1</td>\n",
       "      <td>0</td>\n",
       "      <td>1</td>\n",
       "      <td>112542.58</td>\n",
       "      <td>0</td>\n",
       "    </tr>\n",
       "    <tr>\n",
       "      <th>2</th>\n",
       "      <td>502</td>\n",
       "      <td>0</td>\n",
       "      <td>0</td>\n",
       "      <td>42</td>\n",
       "      <td>8</td>\n",
       "      <td>159660.80</td>\n",
       "      <td>3</td>\n",
       "      <td>1</td>\n",
       "      <td>0</td>\n",
       "      <td>113931.57</td>\n",
       "      <td>1</td>\n",
       "    </tr>\n",
       "    <tr>\n",
       "      <th>3</th>\n",
       "      <td>699</td>\n",
       "      <td>0</td>\n",
       "      <td>0</td>\n",
       "      <td>39</td>\n",
       "      <td>1</td>\n",
       "      <td>0.00</td>\n",
       "      <td>2</td>\n",
       "      <td>0</td>\n",
       "      <td>0</td>\n",
       "      <td>93826.63</td>\n",
       "      <td>0</td>\n",
       "    </tr>\n",
       "    <tr>\n",
       "      <th>4</th>\n",
       "      <td>850</td>\n",
       "      <td>2</td>\n",
       "      <td>0</td>\n",
       "      <td>43</td>\n",
       "      <td>2</td>\n",
       "      <td>125510.82</td>\n",
       "      <td>1</td>\n",
       "      <td>1</td>\n",
       "      <td>1</td>\n",
       "      <td>79084.10</td>\n",
       "      <td>0</td>\n",
       "    </tr>\n",
       "  </tbody>\n",
       "</table>\n",
       "</div>"
      ],
      "text/plain": [
       "   credit_score  country  gender  age  tenure    balance  products_number  \\\n",
       "0           619        0       0   42       2       0.00                1   \n",
       "1           608        2       0   41       1   83807.86                1   \n",
       "2           502        0       0   42       8  159660.80                3   \n",
       "3           699        0       0   39       1       0.00                2   \n",
       "4           850        2       0   43       2  125510.82                1   \n",
       "\n",
       "   credit_card  active_member  estimated_salary  churn  \n",
       "0            1              1         101348.88      1  \n",
       "1            0              1         112542.58      0  \n",
       "2            1              0         113931.57      1  \n",
       "3            0              0          93826.63      0  \n",
       "4            1              1          79084.10      0  "
      ]
     },
     "execution_count": 11,
     "metadata": {},
     "output_type": "execute_result"
    }
   ],
   "source": [
    "data.head()"
   ]
  },
  {
   "cell_type": "code",
   "execution_count": 12,
   "id": "78c3112a",
   "metadata": {},
   "outputs": [
    {
     "data": {
      "text/plain": [
       "(credit_score        0\n",
       " country             0\n",
       " gender              0\n",
       " age                 0\n",
       " tenure              0\n",
       " balance             0\n",
       " products_number     0\n",
       " credit_card         0\n",
       " active_member       0\n",
       " estimated_salary    0\n",
       " churn               0\n",
       " dtype: int64,\n",
       " credit_score        0\n",
       " country             0\n",
       " gender              0\n",
       " age                 0\n",
       " tenure              0\n",
       " balance             0\n",
       " products_number     0\n",
       " credit_card         0\n",
       " active_member       0\n",
       " estimated_salary    0\n",
       " churn               0\n",
       " dtype: int64)"
      ]
     },
     "execution_count": 12,
     "metadata": {},
     "output_type": "execute_result"
    }
   ],
   "source": [
    "data.isna().sum(), data.isnull().sum()"
   ]
  },
  {
   "cell_type": "code",
   "execution_count": 13,
   "id": "f1387366",
   "metadata": {},
   "outputs": [
    {
     "data": {
      "text/html": [
       "<div>\n",
       "<style scoped>\n",
       "    .dataframe tbody tr th:only-of-type {\n",
       "        vertical-align: middle;\n",
       "    }\n",
       "\n",
       "    .dataframe tbody tr th {\n",
       "        vertical-align: top;\n",
       "    }\n",
       "\n",
       "    .dataframe thead th {\n",
       "        text-align: right;\n",
       "    }\n",
       "</style>\n",
       "<table border=\"1\" class=\"dataframe\">\n",
       "  <thead>\n",
       "    <tr style=\"text-align: right;\">\n",
       "      <th></th>\n",
       "      <th>credit_score</th>\n",
       "      <th>country</th>\n",
       "      <th>gender</th>\n",
       "      <th>age</th>\n",
       "      <th>tenure</th>\n",
       "      <th>balance</th>\n",
       "      <th>products_number</th>\n",
       "      <th>credit_card</th>\n",
       "      <th>active_member</th>\n",
       "      <th>estimated_salary</th>\n",
       "      <th>churn</th>\n",
       "    </tr>\n",
       "  </thead>\n",
       "  <tbody>\n",
       "    <tr>\n",
       "      <th>count</th>\n",
       "      <td>10000.000000</td>\n",
       "      <td>10000.000000</td>\n",
       "      <td>10000.000000</td>\n",
       "      <td>10000.000000</td>\n",
       "      <td>10000.000000</td>\n",
       "      <td>10000.000000</td>\n",
       "      <td>10000.000000</td>\n",
       "      <td>10000.00000</td>\n",
       "      <td>10000.000000</td>\n",
       "      <td>10000.000000</td>\n",
       "      <td>10000.000000</td>\n",
       "    </tr>\n",
       "    <tr>\n",
       "      <th>mean</th>\n",
       "      <td>650.528800</td>\n",
       "      <td>0.746300</td>\n",
       "      <td>0.545700</td>\n",
       "      <td>38.921800</td>\n",
       "      <td>5.012800</td>\n",
       "      <td>76485.889288</td>\n",
       "      <td>1.530200</td>\n",
       "      <td>0.70550</td>\n",
       "      <td>0.515100</td>\n",
       "      <td>100090.239881</td>\n",
       "      <td>0.203700</td>\n",
       "    </tr>\n",
       "    <tr>\n",
       "      <th>std</th>\n",
       "      <td>96.653299</td>\n",
       "      <td>0.827529</td>\n",
       "      <td>0.497932</td>\n",
       "      <td>10.487806</td>\n",
       "      <td>2.892174</td>\n",
       "      <td>62397.405202</td>\n",
       "      <td>0.581654</td>\n",
       "      <td>0.45584</td>\n",
       "      <td>0.499797</td>\n",
       "      <td>57510.492818</td>\n",
       "      <td>0.402769</td>\n",
       "    </tr>\n",
       "    <tr>\n",
       "      <th>min</th>\n",
       "      <td>350.000000</td>\n",
       "      <td>0.000000</td>\n",
       "      <td>0.000000</td>\n",
       "      <td>18.000000</td>\n",
       "      <td>0.000000</td>\n",
       "      <td>0.000000</td>\n",
       "      <td>1.000000</td>\n",
       "      <td>0.00000</td>\n",
       "      <td>0.000000</td>\n",
       "      <td>11.580000</td>\n",
       "      <td>0.000000</td>\n",
       "    </tr>\n",
       "    <tr>\n",
       "      <th>25%</th>\n",
       "      <td>584.000000</td>\n",
       "      <td>0.000000</td>\n",
       "      <td>0.000000</td>\n",
       "      <td>32.000000</td>\n",
       "      <td>3.000000</td>\n",
       "      <td>0.000000</td>\n",
       "      <td>1.000000</td>\n",
       "      <td>0.00000</td>\n",
       "      <td>0.000000</td>\n",
       "      <td>51002.110000</td>\n",
       "      <td>0.000000</td>\n",
       "    </tr>\n",
       "    <tr>\n",
       "      <th>50%</th>\n",
       "      <td>652.000000</td>\n",
       "      <td>0.000000</td>\n",
       "      <td>1.000000</td>\n",
       "      <td>37.000000</td>\n",
       "      <td>5.000000</td>\n",
       "      <td>97198.540000</td>\n",
       "      <td>1.000000</td>\n",
       "      <td>1.00000</td>\n",
       "      <td>1.000000</td>\n",
       "      <td>100193.915000</td>\n",
       "      <td>0.000000</td>\n",
       "    </tr>\n",
       "    <tr>\n",
       "      <th>75%</th>\n",
       "      <td>718.000000</td>\n",
       "      <td>1.000000</td>\n",
       "      <td>1.000000</td>\n",
       "      <td>44.000000</td>\n",
       "      <td>7.000000</td>\n",
       "      <td>127644.240000</td>\n",
       "      <td>2.000000</td>\n",
       "      <td>1.00000</td>\n",
       "      <td>1.000000</td>\n",
       "      <td>149388.247500</td>\n",
       "      <td>0.000000</td>\n",
       "    </tr>\n",
       "    <tr>\n",
       "      <th>max</th>\n",
       "      <td>850.000000</td>\n",
       "      <td>2.000000</td>\n",
       "      <td>1.000000</td>\n",
       "      <td>92.000000</td>\n",
       "      <td>10.000000</td>\n",
       "      <td>250898.090000</td>\n",
       "      <td>4.000000</td>\n",
       "      <td>1.00000</td>\n",
       "      <td>1.000000</td>\n",
       "      <td>199992.480000</td>\n",
       "      <td>1.000000</td>\n",
       "    </tr>\n",
       "  </tbody>\n",
       "</table>\n",
       "</div>"
      ],
      "text/plain": [
       "       credit_score       country        gender           age        tenure  \\\n",
       "count  10000.000000  10000.000000  10000.000000  10000.000000  10000.000000   \n",
       "mean     650.528800      0.746300      0.545700     38.921800      5.012800   \n",
       "std       96.653299      0.827529      0.497932     10.487806      2.892174   \n",
       "min      350.000000      0.000000      0.000000     18.000000      0.000000   \n",
       "25%      584.000000      0.000000      0.000000     32.000000      3.000000   \n",
       "50%      652.000000      0.000000      1.000000     37.000000      5.000000   \n",
       "75%      718.000000      1.000000      1.000000     44.000000      7.000000   \n",
       "max      850.000000      2.000000      1.000000     92.000000     10.000000   \n",
       "\n",
       "             balance  products_number  credit_card  active_member  \\\n",
       "count   10000.000000     10000.000000  10000.00000   10000.000000   \n",
       "mean    76485.889288         1.530200      0.70550       0.515100   \n",
       "std     62397.405202         0.581654      0.45584       0.499797   \n",
       "min         0.000000         1.000000      0.00000       0.000000   \n",
       "25%         0.000000         1.000000      0.00000       0.000000   \n",
       "50%     97198.540000         1.000000      1.00000       1.000000   \n",
       "75%    127644.240000         2.000000      1.00000       1.000000   \n",
       "max    250898.090000         4.000000      1.00000       1.000000   \n",
       "\n",
       "       estimated_salary         churn  \n",
       "count      10000.000000  10000.000000  \n",
       "mean      100090.239881      0.203700  \n",
       "std        57510.492818      0.402769  \n",
       "min           11.580000      0.000000  \n",
       "25%        51002.110000      0.000000  \n",
       "50%       100193.915000      0.000000  \n",
       "75%       149388.247500      0.000000  \n",
       "max       199992.480000      1.000000  "
      ]
     },
     "execution_count": 13,
     "metadata": {},
     "output_type": "execute_result"
    }
   ],
   "source": [
    "data.describe()"
   ]
  },
  {
   "cell_type": "markdown",
   "id": "9cbec004",
   "metadata": {},
   "source": [
    "### Exploratory Data analysis"
   ]
  },
  {
   "cell_type": "code",
   "execution_count": 14,
   "id": "b56752aa",
   "metadata": {},
   "outputs": [
    {
     "data": {
      "text/plain": [
       "0    0.7963\n",
       "1    0.2037\n",
       "Name: churn, dtype: float64"
      ]
     },
     "execution_count": 14,
     "metadata": {},
     "output_type": "execute_result"
    }
   ],
   "source": [
    "# Percentage of churn\n",
    "data['churn'].value_counts(normalize=True)"
   ]
  },
  {
   "cell_type": "code",
   "execution_count": 15,
   "id": "cb5bf90e",
   "metadata": {},
   "outputs": [
    {
     "data": {
      "text/plain": [
       "credit_score           645.351497\n",
       "country                  0.805106\n",
       "gender                   0.440844\n",
       "age                     44.837997\n",
       "tenure                   4.932744\n",
       "balance              91108.539337\n",
       "products_number          1.475209\n",
       "credit_card              0.699067\n",
       "active_member            0.360825\n",
       "estimated_salary    101465.677531\n",
       "churn                    1.000000\n",
       "dtype: float64"
      ]
     },
     "execution_count": 15,
     "metadata": {},
     "output_type": "execute_result"
    }
   ],
   "source": [
    "data[data['churn']==1].mean()"
   ]
  },
  {
   "cell_type": "code",
   "execution_count": 16,
   "id": "1c177db5",
   "metadata": {},
   "outputs": [
    {
     "data": {
      "text/html": [
       "<div>\n",
       "<style scoped>\n",
       "    .dataframe tbody tr th:only-of-type {\n",
       "        vertical-align: middle;\n",
       "    }\n",
       "\n",
       "    .dataframe tbody tr th {\n",
       "        vertical-align: top;\n",
       "    }\n",
       "\n",
       "    .dataframe thead th {\n",
       "        text-align: right;\n",
       "    }\n",
       "</style>\n",
       "<table border=\"1\" class=\"dataframe\">\n",
       "  <thead>\n",
       "    <tr style=\"text-align: right;\">\n",
       "      <th>credit_card</th>\n",
       "      <th>0</th>\n",
       "      <th>1</th>\n",
       "    </tr>\n",
       "    <tr>\n",
       "      <th>churn</th>\n",
       "      <th></th>\n",
       "      <th></th>\n",
       "    </tr>\n",
       "  </thead>\n",
       "  <tbody>\n",
       "    <tr>\n",
       "      <th>0</th>\n",
       "      <td>2332</td>\n",
       "      <td>5631</td>\n",
       "    </tr>\n",
       "    <tr>\n",
       "      <th>1</th>\n",
       "      <td>613</td>\n",
       "      <td>1424</td>\n",
       "    </tr>\n",
       "  </tbody>\n",
       "</table>\n",
       "</div>"
      ],
      "text/plain": [
       "credit_card     0     1\n",
       "churn                  \n",
       "0            2332  5631\n",
       "1             613  1424"
      ]
     },
     "execution_count": 16,
     "metadata": {},
     "output_type": "execute_result"
    }
   ],
   "source": [
    "# Here we can see those who holds credit card are likely to churn\n",
    "pd.crosstab(data['churn'], data['credit_card'])"
   ]
  },
  {
   "cell_type": "code",
   "execution_count": 17,
   "id": "aa2e9db7",
   "metadata": {},
   "outputs": [
    {
     "data": {
      "text/html": [
       "<div>\n",
       "<style scoped>\n",
       "    .dataframe tbody tr th:only-of-type {\n",
       "        vertical-align: middle;\n",
       "    }\n",
       "\n",
       "    .dataframe tbody tr th {\n",
       "        vertical-align: top;\n",
       "    }\n",
       "\n",
       "    .dataframe thead th {\n",
       "        text-align: right;\n",
       "    }\n",
       "</style>\n",
       "<table border=\"1\" class=\"dataframe\">\n",
       "  <thead>\n",
       "    <tr style=\"text-align: right;\">\n",
       "      <th>gender</th>\n",
       "      <th>0</th>\n",
       "      <th>1</th>\n",
       "    </tr>\n",
       "    <tr>\n",
       "      <th>churn</th>\n",
       "      <th></th>\n",
       "      <th></th>\n",
       "    </tr>\n",
       "  </thead>\n",
       "  <tbody>\n",
       "    <tr>\n",
       "      <th>0</th>\n",
       "      <td>3404</td>\n",
       "      <td>4559</td>\n",
       "    </tr>\n",
       "    <tr>\n",
       "      <th>1</th>\n",
       "      <td>1139</td>\n",
       "      <td>898</td>\n",
       "    </tr>\n",
       "  </tbody>\n",
       "</table>\n",
       "</div>"
      ],
      "text/plain": [
       "gender     0     1\n",
       "churn             \n",
       "0       3404  4559\n",
       "1       1139   898"
      ]
     },
     "execution_count": 17,
     "metadata": {},
     "output_type": "execute_result"
    }
   ],
   "source": [
    "# Females have higher churn rate than male\n",
    "pd.crosstab(data['churn'], data['gender'])"
   ]
  },
  {
   "cell_type": "code",
   "execution_count": 18,
   "id": "5be619f4",
   "metadata": {},
   "outputs": [
    {
     "data": {
      "text/html": [
       "<div>\n",
       "<style scoped>\n",
       "    .dataframe tbody tr th:only-of-type {\n",
       "        vertical-align: middle;\n",
       "    }\n",
       "\n",
       "    .dataframe tbody tr th {\n",
       "        vertical-align: top;\n",
       "    }\n",
       "\n",
       "    .dataframe thead th {\n",
       "        text-align: right;\n",
       "    }\n",
       "</style>\n",
       "<table border=\"1\" class=\"dataframe\">\n",
       "  <thead>\n",
       "    <tr style=\"text-align: right;\">\n",
       "      <th>tenure</th>\n",
       "      <th>0</th>\n",
       "      <th>1</th>\n",
       "      <th>2</th>\n",
       "      <th>3</th>\n",
       "      <th>4</th>\n",
       "      <th>5</th>\n",
       "      <th>6</th>\n",
       "      <th>7</th>\n",
       "      <th>8</th>\n",
       "      <th>9</th>\n",
       "      <th>10</th>\n",
       "    </tr>\n",
       "    <tr>\n",
       "      <th>churn</th>\n",
       "      <th></th>\n",
       "      <th></th>\n",
       "      <th></th>\n",
       "      <th></th>\n",
       "      <th></th>\n",
       "      <th></th>\n",
       "      <th></th>\n",
       "      <th></th>\n",
       "      <th></th>\n",
       "      <th></th>\n",
       "      <th></th>\n",
       "    </tr>\n",
       "  </thead>\n",
       "  <tbody>\n",
       "    <tr>\n",
       "      <th>0</th>\n",
       "      <td>318</td>\n",
       "      <td>803</td>\n",
       "      <td>847</td>\n",
       "      <td>796</td>\n",
       "      <td>786</td>\n",
       "      <td>803</td>\n",
       "      <td>771</td>\n",
       "      <td>851</td>\n",
       "      <td>828</td>\n",
       "      <td>771</td>\n",
       "      <td>389</td>\n",
       "    </tr>\n",
       "    <tr>\n",
       "      <th>1</th>\n",
       "      <td>95</td>\n",
       "      <td>232</td>\n",
       "      <td>201</td>\n",
       "      <td>213</td>\n",
       "      <td>203</td>\n",
       "      <td>209</td>\n",
       "      <td>196</td>\n",
       "      <td>177</td>\n",
       "      <td>197</td>\n",
       "      <td>213</td>\n",
       "      <td>101</td>\n",
       "    </tr>\n",
       "  </tbody>\n",
       "</table>\n",
       "</div>"
      ],
      "text/plain": [
       "tenure   0    1    2    3    4    5    6    7    8    9    10\n",
       "churn                                                        \n",
       "0       318  803  847  796  786  803  771  851  828  771  389\n",
       "1        95  232  201  213  203  209  196  177  197  213  101"
      ]
     },
     "execution_count": 18,
     "metadata": {},
     "output_type": "execute_result"
    }
   ],
   "source": [
    "pd.crosstab(data['churn'], data['tenure'])"
   ]
  },
  {
   "cell_type": "code",
   "execution_count": 19,
   "id": "13652c27",
   "metadata": {},
   "outputs": [
    {
     "data": {
      "text/html": [
       "<div>\n",
       "<style scoped>\n",
       "    .dataframe tbody tr th:only-of-type {\n",
       "        vertical-align: middle;\n",
       "    }\n",
       "\n",
       "    .dataframe tbody tr th {\n",
       "        vertical-align: top;\n",
       "    }\n",
       "\n",
       "    .dataframe thead th {\n",
       "        text-align: right;\n",
       "    }\n",
       "</style>\n",
       "<table border=\"1\" class=\"dataframe\">\n",
       "  <thead>\n",
       "    <tr style=\"text-align: right;\">\n",
       "      <th>products_number</th>\n",
       "      <th>1</th>\n",
       "      <th>2</th>\n",
       "      <th>3</th>\n",
       "      <th>4</th>\n",
       "    </tr>\n",
       "    <tr>\n",
       "      <th>churn</th>\n",
       "      <th></th>\n",
       "      <th></th>\n",
       "      <th></th>\n",
       "      <th></th>\n",
       "    </tr>\n",
       "  </thead>\n",
       "  <tbody>\n",
       "    <tr>\n",
       "      <th>0</th>\n",
       "      <td>3675</td>\n",
       "      <td>4242</td>\n",
       "      <td>46</td>\n",
       "      <td>0</td>\n",
       "    </tr>\n",
       "    <tr>\n",
       "      <th>1</th>\n",
       "      <td>1409</td>\n",
       "      <td>348</td>\n",
       "      <td>220</td>\n",
       "      <td>60</td>\n",
       "    </tr>\n",
       "  </tbody>\n",
       "</table>\n",
       "</div>"
      ],
      "text/plain": [
       "products_number     1     2    3   4\n",
       "churn                               \n",
       "0                3675  4242   46   0\n",
       "1                1409   348  220  60"
      ]
     },
     "execution_count": 19,
     "metadata": {},
     "output_type": "execute_result"
    }
   ],
   "source": [
    "pd.crosstab(data['churn'], data['products_number'])"
   ]
  },
  {
   "cell_type": "code",
   "execution_count": 20,
   "id": "1455f9c8",
   "metadata": {},
   "outputs": [
    {
     "data": {
      "text/plain": [
       "<Axes: xlabel='credit_card', ylabel='count'>"
      ]
     },
     "execution_count": 20,
     "metadata": {},
     "output_type": "execute_result"
    },
    {
     "data": {
      "image/png": "[encoded data removed]",
      "text/plain": [
       "<Figure size 640x480 with 1 Axes>"
      ]
     },
     "metadata": {},
     "output_type": "display_data"
    }
   ],
   "source": [
    "sns.countplot(x=\"credit_card\", hue=\"churn\", data=data)"
   ]
  },
  {
   "cell_type": "code",
   "execution_count": 21,
   "id": "9edf2d79",
   "metadata": {},
   "outputs": [
    {
     "data": {
      "text/plain": [
       "<Axes: xlabel='gender', ylabel='count'>"
      ]
     },
     "execution_count": 21,
     "metadata": {},
     "output_type": "execute_result"
    },
    {
     "data": {
      "image/png": "[encoded data removed]",
      "text/plain": [
       "<Figure size 640x480 with 1 Axes>"
      ]
     },
     "metadata": {},
     "output_type": "display_data"
    }
   ],
   "source": [
    "sns.countplot(x=\"gender\", hue=\"churn\", data=data)"
   ]
  },
  {
   "cell_type": "markdown",
   "id": "c9b8fdcd",
   "metadata": {},
   "source": [
    "### Modelling"
   ]
  },
  {
   "cell_type": "markdown",
   "id": "adee90da",
   "metadata": {},
   "source": [
    "#### Computing AUC scores of each feature"
   ]
  },
  {
   "cell_type": "code",
   "execution_count": 24,
   "id": "d973a6c6",
   "metadata": {},
   "outputs": [],
   "source": [
    "# Performing auc roc to determine which features are best suitable\n",
    "# Creating a dataframe with just features\n",
    "X = data.drop(\"churn\", axis=1)\n",
    "\n",
    "# A dataframe with just the target variable\n",
    "y = data[\"churn\"]\n",
    "auc = []\n",
    "for i in X.columns:\n",
    "    auc.append(round(roc_auc_score(y, X[i]), 3))\n",
    "# CONVERTING INTO DATAFRAMES\n",
    "auc = pd.DataFrame(auc, columns=[\"AUC_Scores\"])\n",
    "columns = pd.DataFrame(X.columns, columns=[\"Feature_Names\"])\n",
    "\n",
    "final_auc_scores = pd.concat([columns, auc], axis=1)\n",
    "\n",
    "# Sorting AUC values that are farthest from 0.5\n",
    "difference = abs(0.5 - final_auc_scores[\"AUC_Scores\"])\n",
    "final_auc_scores[\"difference\"] = difference\n",
    "top10_auc = final_auc_scores.sort_values(by=[\"difference\"],\n",
    "                                         ascending=False)\n",
    "top10_auc = top10_auc.drop([\"difference\"], axis=1)"
   ]
  },
  {
   "cell_type": "code",
   "execution_count": 25,
   "id": "538a6712",
   "metadata": {},
   "outputs": [
    {
     "data": {
      "text/html": [
       "<div>\n",
       "<style scoped>\n",
       "    .dataframe tbody tr th:only-of-type {\n",
       "        vertical-align: middle;\n",
       "    }\n",
       "\n",
       "    .dataframe tbody tr th {\n",
       "        vertical-align: top;\n",
       "    }\n",
       "\n",
       "    .dataframe thead th {\n",
       "        text-align: right;\n",
       "    }\n",
       "</style>\n",
       "<table border=\"1\" class=\"dataframe\">\n",
       "  <thead>\n",
       "    <tr style=\"text-align: right;\">\n",
       "      <th></th>\n",
       "      <th>Feature_Names</th>\n",
       "      <th>AUC_Scores</th>\n",
       "    </tr>\n",
       "  </thead>\n",
       "  <tbody>\n",
       "    <tr>\n",
       "      <th>3</th>\n",
       "      <td>age</td>\n",
       "      <td>0.732</td>\n",
       "    </tr>\n",
       "    <tr>\n",
       "      <th>8</th>\n",
       "      <td>active_member</td>\n",
       "      <td>0.403</td>\n",
       "    </tr>\n",
       "    <tr>\n",
       "      <th>6</th>\n",
       "      <td>products_number</td>\n",
       "      <td>0.421</td>\n",
       "    </tr>\n",
       "    <tr>\n",
       "      <th>5</th>\n",
       "      <td>balance</td>\n",
       "      <td>0.578</td>\n",
       "    </tr>\n",
       "    <tr>\n",
       "      <th>2</th>\n",
       "      <td>gender</td>\n",
       "      <td>0.434</td>\n",
       "    </tr>\n",
       "    <tr>\n",
       "      <th>1</th>\n",
       "      <td>country</td>\n",
       "      <td>0.535</td>\n",
       "    </tr>\n",
       "    <tr>\n",
       "      <th>0</th>\n",
       "      <td>credit_score</td>\n",
       "      <td>0.483</td>\n",
       "    </tr>\n",
       "    <tr>\n",
       "      <th>4</th>\n",
       "      <td>tenure</td>\n",
       "      <td>0.490</td>\n",
       "    </tr>\n",
       "    <tr>\n",
       "      <th>9</th>\n",
       "      <td>estimated_salary</td>\n",
       "      <td>0.509</td>\n",
       "    </tr>\n",
       "    <tr>\n",
       "      <th>7</th>\n",
       "      <td>credit_card</td>\n",
       "      <td>0.496</td>\n",
       "    </tr>\n",
       "  </tbody>\n",
       "</table>\n",
       "</div>"
      ],
      "text/plain": [
       "      Feature_Names  AUC_Scores\n",
       "3               age       0.732\n",
       "8     active_member       0.403\n",
       "6   products_number       0.421\n",
       "5           balance       0.578\n",
       "2            gender       0.434\n",
       "1           country       0.535\n",
       "0      credit_score       0.483\n",
       "4            tenure       0.490\n",
       "9  estimated_salary       0.509\n",
       "7       credit_card       0.496"
      ]
     },
     "execution_count": 25,
     "metadata": {},
     "output_type": "execute_result"
    }
   ],
   "source": [
    "top10_auc"
   ]
  },
  {
   "cell_type": "markdown",
   "id": "0d499bba",
   "metadata": {},
   "source": [
    "### KNN, ANN Implementation"
   ]
  },
  {
   "cell_type": "code",
   "execution_count": 10,
   "id": "fa1b7132",
   "metadata": {},
   "outputs": [],
   "source": [
    "# Importing libraries\n",
    "\n",
    "import numpy as np\n",
    "import pandas as pd\n",
    "from sklearn.metrics import accuracy_score, roc_auc_score\n",
    "from sklearn.model_selection import StratifiedKFold, ShuffleSplit, GridSearchCV\n",
    "from sklearn.neighbors import KNeighborsClassifier\n",
    "from sklearn.neural_network import MLPClassifier as MLP\n",
    "from sklearn.preprocessing import LabelEncoder, MinMaxScaler"
   ]
  },
  {
   "cell_type": "code",
   "execution_count": 26,
   "id": "ef2bd968",
   "metadata": {},
   "outputs": [],
   "source": [
    "def model() -> None:\n",
    "    print(\"ANN Implementation... \\n\")\n",
    "    # Load the dataset\n",
    "    data = pd.read_csv(\"Bank Customer Churn Prediction.csv\")\n",
    "\n",
    "    # Checking the nulls\n",
    "    # print(\"Null value check:\\n\", data.isnull().sum())\n",
    "\n",
    "    # Dropping the unwanted columns from the data\n",
    "    data = data.drop(columns=\"customer_id\", axis=1)\n",
    "\n",
    "    # Country have 3 string values and gender have 2 string values.\n",
    "    # Hence, we convert the string values into numerical\n",
    "    # values by using label encoder\n",
    "    country_encoder = LabelEncoder()\n",
    "    gender_encoder = LabelEncoder()\n",
    "\n",
    "    data[\"country\"] = country_encoder.fit_transform(data[\"country\"])\n",
    "    data[\"gender\"] = gender_encoder.fit_transform(data[\"gender\"])\n",
    "\n",
    "    # Creating a dataframe with just features\n",
    "    X = data.drop(\"churn\", axis=1)\n",
    "    scaler = MinMaxScaler()\n",
    "    X = scaler.fit_transform(X)\n",
    "\n",
    "    # Defining the target variable\n",
    "    y = data[\"churn\"]\n",
    "\n",
    "    # Printing the counts of each class of the target variable\n",
    "    print(\"Checking the counts of each target class:\\n\",\n",
    "          data.churn.value_counts())\n",
    "\n",
    "    # CREATING K-FOLD\n",
    "    folds = StratifiedKFold(n_splits=5, random_state=0, shuffle=True)\n",
    "\n",
    "    # Empty lists for storing the error rates of different models\n",
    "    errorRate_Knn1 = []\n",
    "    errorRate_Knn5 = []\n",
    "    errorRate_Knn10 = []\n",
    "    errorRate_ann1 = []\n",
    "    errorRate_ann2 = []\n",
    "\n",
    "    # Modelling\n",
    "    for train_idx, test_idx in folds.split(X, y):\n",
    "        X_train, X_test = X[train_idx, :], X[test_idx, :]\n",
    "        y_train, y_test = y.iloc[train_idx], y.iloc[test_idx]\n",
    "\n",
    "        # ANN1 with hyperparameter tuned parameters\n",
    "        \n",
    "        ann1 = MLP(hidden_layer_sizes=(5, 10, 15, 20), activation=\"relu\",solver=\"adam\", random_state=0, max_iter=500, learning_rate='invscaling', learning_rate_init=0.005, shuffle=True).fit(X_train,y_train)\n",
    "        ann_pred_1 = ann1.predict(X_test)\n",
    "        errorRate_ann1.append(1 - accuracy_score(ann_pred_1, y_test))\n",
    "\n",
    "        # ANN2\n",
    "        ann2 = MLP(\n",
    "            hidden_layer_sizes=(8, 16, 32, 48, 64), activation=\"relu\",\n",
    "            random_state=0, max_iter=500, solver=\"adam\"\n",
    "        ).fit(X_train, y_train)\n",
    "        ann_pred_2 = ann2.predict(X_test)\n",
    "        errorRate_ann2.append(1 - accuracy_score(ann_pred_2, y_test))\n",
    "\n",
    "        # KNN model with k = 1\n",
    "        knn1 = KNeighborsClassifier(n_neighbors=1).fit(X_train, y_train)\n",
    "        y_pred_knn1 = knn1.predict(X_test)\n",
    "        errorRate_Knn1.append(1 - accuracy_score(y_pred_knn1, y_test))\n",
    "\n",
    "        # KNN model with k = 5\n",
    "        knn5 = KNeighborsClassifier(n_neighbors=5).fit(X_train, y_train)\n",
    "        y_pred_knn5 = knn5.predict(X_test)\n",
    "        errorRate_Knn5.append(1 - accuracy_score(y_pred_knn5, y_test))\n",
    "\n",
    "        # KNN model with k = 10\n",
    "        knn10 = KNeighborsClassifier(n_neighbors=10).fit(X_train, y_train)\n",
    "        y_pred_knn10 = knn10.predict(X_test)\n",
    "        errorRate_Knn10.append(1 - accuracy_score(y_pred_knn10, y_test))\n",
    "\n",
    "    # Appending the mean error rate of each model in their respective list\n",
    "    errorRate_Knn1.append(np.mean(errorRate_Knn1))\n",
    "    errorRate_Knn5.append(np.mean(errorRate_Knn5))\n",
    "    errorRate_Knn10.append(np.mean(errorRate_Knn10))\n",
    "    errorRate_ann1.append(np.mean(errorRate_ann1))\n",
    "    errorRate_ann2.append(np.mean(errorRate_ann2))\n",
    "\n",
    "    # Dataframe for storing the error rates of\n",
    "    # all the model's different folds and it's mean\n",
    "    stratified_KFold_scores = pd.DataFrame(\n",
    "        index=[\"knn1\", \"knn5\", \"knn10\", \"ann1\", \"ann2\"],\n",
    "        columns=[\"fold1\", \"fold2\", \"fold3\", \"fold4\", \"fold5\", \"mean\"],\n",
    "    )\n",
    "    stratified_KFold_scores.index.name = \"classifier\"\n",
    "\n",
    "    stratified_KFold_scores.loc[stratified_KFold_scores.index[0]] = \\\n",
    "        errorRate_Knn1\n",
    "    stratified_KFold_scores.loc[stratified_KFold_scores.index[1]] = \\\n",
    "        errorRate_Knn5\n",
    "    stratified_KFold_scores.loc[stratified_KFold_scores.index[2]] = \\\n",
    "        errorRate_Knn10\n",
    "    stratified_KFold_scores.loc[stratified_KFold_scores.index[3]] = \\\n",
    "        errorRate_ann1\n",
    "    stratified_KFold_scores.loc[stratified_KFold_scores.index[4]] = \\\n",
    "        errorRate_ann2\n",
    "    print(stratified_KFold_scores.to_markdown(index=True))"
   ]
  },
  {
   "cell_type": "code",
   "execution_count": 23,
   "id": "d346f5e6",
   "metadata": {},
   "outputs": [
    {
     "name": "stdout",
     "output_type": "stream",
     "text": [
      "ANN Implementation... \n",
      "\n",
      "Checking the counts of each target class:\n",
      " 0    7963\n",
      "1    2037\n",
      "Name: churn, dtype: int64\n",
      "| classifier   |   fold1 |   fold2 |   fold3 |   fold4 |   fold5 |   mean |\n",
      "|:-------------|--------:|--------:|--------:|--------:|--------:|-------:|\n",
      "| knn1         |  0.215  |  0.221  |  0.213  |  0.2045 |  0.221  | 0.2149 |\n",
      "| knn5         |  0.1855 |  0.187  |  0.185  |  0.178  |  0.1805 | 0.1832 |\n",
      "| knn10        |  0.1875 |  0.1855 |  0.185  |  0.1775 |  0.187  | 0.1845 |\n",
      "| ann1         |  0.145  |  0.148  |  0.1415 |  0.1435 |  0.1365 | 0.1429 |\n",
      "| ann2         |  0.142  |  0.145  |  0.144  |  0.145  |  0.141  | 0.1434 |\n"
     ]
    }
   ],
   "source": [
    "model()"
   ]
  },
  {
   "cell_type": "markdown",
   "id": "df878ad2",
   "metadata": {},
   "source": [
    "#### Here we can see from the above table that the mean error is less for ANN1 model which uses tuned parameters."
   ]
  },
  {
   "cell_type": "markdown",
   "id": "4d283494",
   "metadata": {},
   "source": [
    "### Hyper-parameter Tuning for ANN"
   ]
  },
  {
   "cell_type": "code",
   "execution_count": 5,
   "id": "817ab82f",
   "metadata": {},
   "outputs": [],
   "source": [
    "data = pd.read_csv(\"Bank Customer Churn Prediction.csv\")\n",
    "\n",
    "# Checking the nulls\n",
    "# print(\"Null value check:\\n\", data.isnull().sum())\n",
    "\n",
    "# Dropping the unwanted columns from the data\n",
    "data = data.drop(columns=\"customer_id\", axis=1)\n",
    "\n",
    "# Country have 3 string values and gender have 2 string values.\n",
    "# Hence, we convert the string values into numerical\n",
    "# values by using label encoder\n",
    "country_encoder = LabelEncoder()\n",
    "gender_encoder = LabelEncoder()\n",
    "\n",
    "data[\"country\"] = country_encoder.fit_transform(data[\"country\"])\n",
    "data[\"gender\"] = gender_encoder.fit_transform(data[\"gender\"])\n",
    "\n",
    "# Creating a dataframe with just features\n",
    "X = data.drop(\"churn\", axis=1)\n",
    "scaler = MinMaxScaler()\n",
    "X = scaler.fit_transform(X)\n",
    "\n",
    "# Defining the target variable\n",
    "y = data[\"churn\"]\n",
    "X_train, X_test, y_train, y_test = train_test_split(X,y,test_size=0.2,random_state=0)"
   ]
  },
  {
   "cell_type": "code",
   "execution_count": 12,
   "id": "d84030de",
   "metadata": {},
   "outputs": [
    {
     "name": "stdout",
     "output_type": "stream",
     "text": [
      "Fitting 1 folds for each of 504 candidates, totalling 504 fits\n",
      "[CV] END activation=tanh, hidden_layer_sizes=5, learning_rate=constant, learning_rate_init=0, shuffle=True, solver=adam; total time=   0.0s\n",
      "[CV] END activation=tanh, hidden_layer_sizes=5, learning_rate=constant, learning_rate_init=0, shuffle=False, solver=adam; total time=   0.0s\n",
      "[CV] END activation=tanh, hidden_layer_sizes=5, learning_rate=constant, learning_rate_init=0.0001, shuffle=True, solver=adam; total time=   5.0s\n",
      "[CV] END activation=tanh, hidden_layer_sizes=5, learning_rate=constant, learning_rate_init=0.0001, shuffle=False, solver=adam; total time=   3.3s\n"
     ]
    },
    {
     "name": "stderr",
     "output_type": "stream",
     "text": [
      "C:\\Users\\mangu\\AppData\\Local\\Programs\\Python\\Python310\\lib\\site-packages\\sklearn\\neural_network\\_multilayer_perceptron.py:686: ConvergenceWarning: Stochastic Optimizer: Maximum iterations (500) reached and the optimization hasn't converged yet.\n",
      "  warnings.warn(\n"
     ]
    },
    {
     "name": "stdout",
     "output_type": "stream",
     "text": [
      "[CV] END activation=tanh, hidden_layer_sizes=5, learning_rate=constant, learning_rate_init=0.0005, shuffle=True, solver=adam; total time=   5.4s\n",
      "[CV] END activation=tanh, hidden_layer_sizes=5, learning_rate=constant, learning_rate_init=0.0005, shuffle=False, solver=adam; total time=   4.2s\n",
      "[CV] END activation=tanh, hidden_layer_sizes=5, learning_rate=constant, learning_rate_init=0.001, shuffle=True, solver=adam; total time=   4.0s\n",
      "[CV] END activation=tanh, hidden_layer_sizes=5, learning_rate=constant, learning_rate_init=0.001, shuffle=False, solver=adam; total time=   2.5s\n",
      "[CV] END activation=tanh, hidden_layer_sizes=5, learning_rate=constant, learning_rate_init=0.005, shuffle=True, solver=adam; total time=   1.6s\n",
      "[CV] END activation=tanh, hidden_layer_sizes=5, learning_rate=constant, learning_rate_init=0.005, shuffle=False, solver=adam; total time=   1.3s\n",
      "[CV] END activation=tanh, hidden_layer_sizes=5, learning_rate=constant, learning_rate_init=0.01, shuffle=True, solver=adam; total time=   0.9s\n",
      "[CV] END activation=tanh, hidden_layer_sizes=5, learning_rate=constant, learning_rate_init=0.01, shuffle=False, solver=adam; total time=   0.7s\n",
      "[CV] END activation=tanh, hidden_layer_sizes=5, learning_rate=invscaling, learning_rate_init=0, shuffle=True, solver=adam; total time=   0.0s\n",
      "[CV] END activation=tanh, hidden_layer_sizes=5, learning_rate=invscaling, learning_rate_init=0, shuffle=False, solver=adam; total time=   0.0s\n",
      "[CV] END activation=tanh, hidden_layer_sizes=5, learning_rate=invscaling, learning_rate_init=0.0001, shuffle=True, solver=adam; total time=   4.2s\n",
      "[CV] END activation=tanh, hidden_layer_sizes=5, learning_rate=invscaling, learning_rate_init=0.0001, shuffle=False, solver=adam; total time=   3.3s\n",
      "[CV] END activation=tanh, hidden_layer_sizes=5, learning_rate=invscaling, learning_rate_init=0.0005, shuffle=True, solver=adam; total time=   2.0s\n",
      "[CV] END activation=tanh, hidden_layer_sizes=5, learning_rate=invscaling, learning_rate_init=0.0005, shuffle=False, solver=adam; total time=   4.0s\n",
      "[CV] END activation=tanh, hidden_layer_sizes=5, learning_rate=invscaling, learning_rate_init=0.001, shuffle=True, solver=adam; total time=   4.7s\n",
      "[CV] END activation=tanh, hidden_layer_sizes=5, learning_rate=invscaling, learning_rate_init=0.001, shuffle=False, solver=adam; total time=   2.0s\n",
      "[CV] END activation=tanh, hidden_layer_sizes=5, learning_rate=invscaling, learning_rate_init=0.005, shuffle=True, solver=adam; total time=   1.3s\n",
      "[CV] END activation=tanh, hidden_layer_sizes=5, learning_rate=invscaling, learning_rate_init=0.005, shuffle=False, solver=adam; total time=   1.1s\n",
      "[CV] END activation=tanh, hidden_layer_sizes=5, learning_rate=invscaling, learning_rate_init=0.01, shuffle=True, solver=adam; total time=   1.2s\n",
      "[CV] END activation=tanh, hidden_layer_sizes=5, learning_rate=invscaling, learning_rate_init=0.01, shuffle=False, solver=adam; total time=   0.7s\n",
      "[CV] END activation=tanh, hidden_layer_sizes=5, learning_rate=adaptive, learning_rate_init=0, shuffle=True, solver=adam; total time=   0.0s\n",
      "[CV] END activation=tanh, hidden_layer_sizes=5, learning_rate=adaptive, learning_rate_init=0, shuffle=False, solver=adam; total time=   0.0s\n"
     ]
    },
    {
     "name": "stderr",
     "output_type": "stream",
     "text": [
      "C:\\Users\\mangu\\AppData\\Local\\Programs\\Python\\Python310\\lib\\site-packages\\sklearn\\neural_network\\_multilayer_perceptron.py:686: ConvergenceWarning: Stochastic Optimizer: Maximum iterations (500) reached and the optimization hasn't converged yet.\n",
      "  warnings.warn(\n"
     ]
    },
    {
     "name": "stdout",
     "output_type": "stream",
     "text": [
      "[CV] END activation=tanh, hidden_layer_sizes=5, learning_rate=adaptive, learning_rate_init=0.0001, shuffle=True, solver=adam; total time=   4.8s\n",
      "[CV] END activation=tanh, hidden_layer_sizes=5, learning_rate=adaptive, learning_rate_init=0.0001, shuffle=False, solver=adam; total time=   3.0s\n"
     ]
    },
    {
     "name": "stderr",
     "output_type": "stream",
     "text": [
      "C:\\Users\\mangu\\AppData\\Local\\Programs\\Python\\Python310\\lib\\site-packages\\sklearn\\neural_network\\_multilayer_perceptron.py:686: ConvergenceWarning: Stochastic Optimizer: Maximum iterations (500) reached and the optimization hasn't converged yet.\n",
      "  warnings.warn(\n"
     ]
    },
    {
     "name": "stdout",
     "output_type": "stream",
     "text": [
      "[CV] END activation=tanh, hidden_layer_sizes=5, learning_rate=adaptive, learning_rate_init=0.0005, shuffle=True, solver=adam; total time=   4.9s\n",
      "[CV] END activation=tanh, hidden_layer_sizes=5, learning_rate=adaptive, learning_rate_init=0.0005, shuffle=False, solver=adam; total time=   4.3s\n",
      "[CV] END activation=tanh, hidden_layer_sizes=5, learning_rate=adaptive, learning_rate_init=0.001, shuffle=True, solver=adam; total time=   4.5s\n",
      "[CV] END activation=tanh, hidden_layer_sizes=5, learning_rate=adaptive, learning_rate_init=0.001, shuffle=False, solver=adam; total time=   2.7s\n",
      "[CV] END activation=tanh, hidden_layer_sizes=5, learning_rate=adaptive, learning_rate_init=0.005, shuffle=True, solver=adam; total time=   1.6s\n",
      "[CV] END activation=tanh, hidden_layer_sizes=5, learning_rate=adaptive, learning_rate_init=0.005, shuffle=False, solver=adam; total time=   1.1s\n",
      "[CV] END activation=tanh, hidden_layer_sizes=5, learning_rate=adaptive, learning_rate_init=0.01, shuffle=True, solver=adam; total time=   0.9s\n",
      "[CV] END activation=tanh, hidden_layer_sizes=5, learning_rate=adaptive, learning_rate_init=0.01, shuffle=False, solver=adam; total time=   0.6s\n",
      "[CV] END activation=tanh, hidden_layer_sizes=10, learning_rate=constant, learning_rate_init=0, shuffle=True, solver=adam; total time=   0.0s\n",
      "[CV] END activation=tanh, hidden_layer_sizes=10, learning_rate=constant, learning_rate_init=0, shuffle=False, solver=adam; total time=   0.0s\n",
      "[CV] END activation=tanh, hidden_layer_sizes=10, learning_rate=constant, learning_rate_init=0.0001, shuffle=True, solver=adam; total time=   2.8s\n",
      "[CV] END activation=tanh, hidden_layer_sizes=10, learning_rate=constant, learning_rate_init=0.0001, shuffle=False, solver=adam; total time=   3.2s\n"
     ]
    },
    {
     "name": "stderr",
     "output_type": "stream",
     "text": [
      "C:\\Users\\mangu\\AppData\\Local\\Programs\\Python\\Python310\\lib\\site-packages\\sklearn\\neural_network\\_multilayer_perceptron.py:686: ConvergenceWarning: Stochastic Optimizer: Maximum iterations (500) reached and the optimization hasn't converged yet.\n",
      "  warnings.warn(\n"
     ]
    },
    {
     "name": "stdout",
     "output_type": "stream",
     "text": [
      "[CV] END activation=tanh, hidden_layer_sizes=10, learning_rate=constant, learning_rate_init=0.0005, shuffle=True, solver=adam; total time=   5.2s\n",
      "[CV] END activation=tanh, hidden_layer_sizes=10, learning_rate=constant, learning_rate_init=0.0005, shuffle=False, solver=adam; total time=   3.7s\n",
      "[CV] END activation=tanh, hidden_layer_sizes=10, learning_rate=constant, learning_rate_init=0.001, shuffle=True, solver=adam; total time=   4.4s\n",
      "[CV] END activation=tanh, hidden_layer_sizes=10, learning_rate=constant, learning_rate_init=0.001, shuffle=False, solver=adam; total time=   2.6s\n",
      "[CV] END activation=tanh, hidden_layer_sizes=10, learning_rate=constant, learning_rate_init=0.005, shuffle=True, solver=adam; total time=   2.4s\n",
      "[CV] END activation=tanh, hidden_layer_sizes=10, learning_rate=constant, learning_rate_init=0.005, shuffle=False, solver=adam; total time=   1.6s\n",
      "[CV] END activation=tanh, hidden_layer_sizes=10, learning_rate=constant, learning_rate_init=0.01, shuffle=True, solver=adam; total time=   1.8s\n",
      "[CV] END activation=tanh, hidden_layer_sizes=10, learning_rate=constant, learning_rate_init=0.01, shuffle=False, solver=adam; total time=   1.3s\n",
      "[CV] END activation=tanh, hidden_layer_sizes=10, learning_rate=invscaling, learning_rate_init=0, shuffle=True, solver=adam; total time=   0.0s\n",
      "[CV] END activation=tanh, hidden_layer_sizes=10, learning_rate=invscaling, learning_rate_init=0, shuffle=False, solver=adam; total time=   0.0s\n",
      "[CV] END activation=tanh, hidden_layer_sizes=10, learning_rate=invscaling, learning_rate_init=0.0001, shuffle=True, solver=adam; total time=   3.9s\n",
      "[CV] END activation=tanh, hidden_layer_sizes=10, learning_rate=invscaling, learning_rate_init=0.0001, shuffle=False, solver=adam; total time=   3.7s\n"
     ]
    },
    {
     "name": "stderr",
     "output_type": "stream",
     "text": [
      "C:\\Users\\mangu\\AppData\\Local\\Programs\\Python\\Python310\\lib\\site-packages\\sklearn\\neural_network\\_multilayer_perceptron.py:686: ConvergenceWarning: Stochastic Optimizer: Maximum iterations (500) reached and the optimization hasn't converged yet.\n",
      "  warnings.warn(\n"
     ]
    },
    {
     "name": "stdout",
     "output_type": "stream",
     "text": [
      "[CV] END activation=tanh, hidden_layer_sizes=10, learning_rate=invscaling, learning_rate_init=0.0005, shuffle=True, solver=adam; total time=   5.1s\n",
      "[CV] END activation=tanh, hidden_layer_sizes=10, learning_rate=invscaling, learning_rate_init=0.0005, shuffle=False, solver=adam; total time=   3.6s\n"
     ]
    },
    {
     "name": "stderr",
     "output_type": "stream",
     "text": [
      "C:\\Users\\mangu\\AppData\\Local\\Programs\\Python\\Python310\\lib\\site-packages\\sklearn\\neural_network\\_multilayer_perceptron.py:686: ConvergenceWarning: Stochastic Optimizer: Maximum iterations (500) reached and the optimization hasn't converged yet.\n",
      "  warnings.warn(\n"
     ]
    },
    {
     "name": "stdout",
     "output_type": "stream",
     "text": [
      "[CV] END activation=tanh, hidden_layer_sizes=10, learning_rate=invscaling, learning_rate_init=0.001, shuffle=True, solver=adam; total time=   5.4s\n",
      "[CV] END activation=tanh, hidden_layer_sizes=10, learning_rate=invscaling, learning_rate_init=0.001, shuffle=False, solver=adam; total time=   1.9s\n",
      "[CV] END activation=tanh, hidden_layer_sizes=10, learning_rate=invscaling, learning_rate_init=0.005, shuffle=True, solver=adam; total time=   3.0s\n",
      "[CV] END activation=tanh, hidden_layer_sizes=10, learning_rate=invscaling, learning_rate_init=0.005, shuffle=False, solver=adam; total time=   1.4s\n",
      "[CV] END activation=tanh, hidden_layer_sizes=10, learning_rate=invscaling, learning_rate_init=0.01, shuffle=True, solver=adam; total time=   1.6s\n",
      "[CV] END activation=tanh, hidden_layer_sizes=10, learning_rate=invscaling, learning_rate_init=0.01, shuffle=False, solver=adam; total time=   1.2s\n",
      "[CV] END activation=tanh, hidden_layer_sizes=10, learning_rate=adaptive, learning_rate_init=0, shuffle=True, solver=adam; total time=   0.0s\n",
      "[CV] END activation=tanh, hidden_layer_sizes=10, learning_rate=adaptive, learning_rate_init=0, shuffle=False, solver=adam; total time=   0.0s\n",
      "[CV] END activation=tanh, hidden_layer_sizes=10, learning_rate=adaptive, learning_rate_init=0.0001, shuffle=True, solver=adam; total time=   3.8s\n",
      "[CV] END activation=tanh, hidden_layer_sizes=10, learning_rate=adaptive, learning_rate_init=0.0001, shuffle=False, solver=adam; total time=   2.9s\n"
     ]
    },
    {
     "name": "stderr",
     "output_type": "stream",
     "text": [
      "C:\\Users\\mangu\\AppData\\Local\\Programs\\Python\\Python310\\lib\\site-packages\\sklearn\\neural_network\\_multilayer_perceptron.py:686: ConvergenceWarning: Stochastic Optimizer: Maximum iterations (500) reached and the optimization hasn't converged yet.\n",
      "  warnings.warn(\n"
     ]
    },
    {
     "name": "stdout",
     "output_type": "stream",
     "text": [
      "[CV] END activation=tanh, hidden_layer_sizes=10, learning_rate=adaptive, learning_rate_init=0.0005, shuffle=True, solver=adam; total time=   5.2s\n",
      "[CV] END activation=tanh, hidden_layer_sizes=10, learning_rate=adaptive, learning_rate_init=0.0005, shuffle=False, solver=adam; total time=   4.6s\n",
      "[CV] END activation=tanh, hidden_layer_sizes=10, learning_rate=adaptive, learning_rate_init=0.001, shuffle=True, solver=adam; total time=   4.6s\n",
      "[CV] END activation=tanh, hidden_layer_sizes=10, learning_rate=adaptive, learning_rate_init=0.001, shuffle=False, solver=adam; total time=   2.5s\n",
      "[CV] END activation=tanh, hidden_layer_sizes=10, learning_rate=adaptive, learning_rate_init=0.005, shuffle=True, solver=adam; total time=   2.4s\n",
      "[CV] END activation=tanh, hidden_layer_sizes=10, learning_rate=adaptive, learning_rate_init=0.005, shuffle=False, solver=adam; total time=   1.6s\n",
      "[CV] END activation=tanh, hidden_layer_sizes=10, learning_rate=adaptive, learning_rate_init=0.01, shuffle=True, solver=adam; total time=   1.3s\n",
      "[CV] END activation=tanh, hidden_layer_sizes=10, learning_rate=adaptive, learning_rate_init=0.01, shuffle=False, solver=adam; total time=   1.0s\n",
      "[CV] END activation=tanh, hidden_layer_sizes=15, learning_rate=constant, learning_rate_init=0, shuffle=True, solver=adam; total time=   0.0s\n",
      "[CV] END activation=tanh, hidden_layer_sizes=15, learning_rate=constant, learning_rate_init=0, shuffle=False, solver=adam; total time=   0.0s\n",
      "[CV] END activation=tanh, hidden_layer_sizes=15, learning_rate=constant, learning_rate_init=0.0001, shuffle=True, solver=adam; total time=   3.3s\n",
      "[CV] END activation=tanh, hidden_layer_sizes=15, learning_rate=constant, learning_rate_init=0.0001, shuffle=False, solver=adam; total time=   3.1s\n"
     ]
    },
    {
     "name": "stderr",
     "output_type": "stream",
     "text": [
      "C:\\Users\\mangu\\AppData\\Local\\Programs\\Python\\Python310\\lib\\site-packages\\sklearn\\neural_network\\_multilayer_perceptron.py:686: ConvergenceWarning: Stochastic Optimizer: Maximum iterations (500) reached and the optimization hasn't converged yet.\n",
      "  warnings.warn(\n"
     ]
    },
    {
     "name": "stdout",
     "output_type": "stream",
     "text": [
      "[CV] END activation=tanh, hidden_layer_sizes=15, learning_rate=constant, learning_rate_init=0.0005, shuffle=True, solver=adam; total time=   5.7s\n",
      "[CV] END activation=tanh, hidden_layer_sizes=15, learning_rate=constant, learning_rate_init=0.0005, shuffle=False, solver=adam; total time=   3.8s\n"
     ]
    },
    {
     "name": "stderr",
     "output_type": "stream",
     "text": [
      "C:\\Users\\mangu\\AppData\\Local\\Programs\\Python\\Python310\\lib\\site-packages\\sklearn\\neural_network\\_multilayer_perceptron.py:686: ConvergenceWarning: Stochastic Optimizer: Maximum iterations (500) reached and the optimization hasn't converged yet.\n",
      "  warnings.warn(\n"
     ]
    },
    {
     "name": "stdout",
     "output_type": "stream",
     "text": [
      "[CV] END activation=tanh, hidden_layer_sizes=15, learning_rate=constant, learning_rate_init=0.001, shuffle=True, solver=adam; total time=   5.7s\n",
      "[CV] END activation=tanh, hidden_layer_sizes=15, learning_rate=constant, learning_rate_init=0.001, shuffle=False, solver=adam; total time=   2.8s\n",
      "[CV] END activation=tanh, hidden_layer_sizes=15, learning_rate=constant, learning_rate_init=0.005, shuffle=True, solver=adam; total time=   2.4s\n",
      "[CV] END activation=tanh, hidden_layer_sizes=15, learning_rate=constant, learning_rate_init=0.005, shuffle=False, solver=adam; total time=   2.0s\n",
      "[CV] END activation=tanh, hidden_layer_sizes=15, learning_rate=constant, learning_rate_init=0.01, shuffle=True, solver=adam; total time=   2.0s\n",
      "[CV] END activation=tanh, hidden_layer_sizes=15, learning_rate=constant, learning_rate_init=0.01, shuffle=False, solver=adam; total time=   1.3s\n",
      "[CV] END activation=tanh, hidden_layer_sizes=15, learning_rate=invscaling, learning_rate_init=0, shuffle=True, solver=adam; total time=   0.0s\n",
      "[CV] END activation=tanh, hidden_layer_sizes=15, learning_rate=invscaling, learning_rate_init=0, shuffle=False, solver=adam; total time=   0.0s\n",
      "[CV] END activation=tanh, hidden_layer_sizes=15, learning_rate=invscaling, learning_rate_init=0.0001, shuffle=True, solver=adam; total time=   4.0s\n",
      "[CV] END activation=tanh, hidden_layer_sizes=15, learning_rate=invscaling, learning_rate_init=0.0001, shuffle=False, solver=adam; total time=   3.0s\n"
     ]
    },
    {
     "name": "stderr",
     "output_type": "stream",
     "text": [
      "C:\\Users\\mangu\\AppData\\Local\\Programs\\Python\\Python310\\lib\\site-packages\\sklearn\\neural_network\\_multilayer_perceptron.py:686: ConvergenceWarning: Stochastic Optimizer: Maximum iterations (500) reached and the optimization hasn't converged yet.\n",
      "  warnings.warn(\n"
     ]
    },
    {
     "name": "stdout",
     "output_type": "stream",
     "text": [
      "[CV] END activation=tanh, hidden_layer_sizes=15, learning_rate=invscaling, learning_rate_init=0.0005, shuffle=True, solver=adam; total time=   5.4s\n",
      "[CV] END activation=tanh, hidden_layer_sizes=15, learning_rate=invscaling, learning_rate_init=0.0005, shuffle=False, solver=adam; total time=   4.3s\n",
      "[CV] END activation=tanh, hidden_layer_sizes=15, learning_rate=invscaling, learning_rate_init=0.001, shuffle=True, solver=adam; total time=   3.7s\n",
      "[CV] END activation=tanh, hidden_layer_sizes=15, learning_rate=invscaling, learning_rate_init=0.001, shuffle=False, solver=adam; total time=   2.8s\n",
      "[CV] END activation=tanh, hidden_layer_sizes=15, learning_rate=invscaling, learning_rate_init=0.005, shuffle=True, solver=adam; total time=   2.7s\n",
      "[CV] END activation=tanh, hidden_layer_sizes=15, learning_rate=invscaling, learning_rate_init=0.005, shuffle=False, solver=adam; total time=   1.7s\n",
      "[CV] END activation=tanh, hidden_layer_sizes=15, learning_rate=invscaling, learning_rate_init=0.01, shuffle=True, solver=adam; total time=   1.2s\n",
      "[CV] END activation=tanh, hidden_layer_sizes=15, learning_rate=invscaling, learning_rate_init=0.01, shuffle=False, solver=adam; total time=   1.2s\n",
      "[CV] END activation=tanh, hidden_layer_sizes=15, learning_rate=adaptive, learning_rate_init=0, shuffle=True, solver=adam; total time=   0.0s\n",
      "[CV] END activation=tanh, hidden_layer_sizes=15, learning_rate=adaptive, learning_rate_init=0, shuffle=False, solver=adam; total time=   0.0s\n",
      "[CV] END activation=tanh, hidden_layer_sizes=15, learning_rate=adaptive, learning_rate_init=0.0001, shuffle=True, solver=adam; total time=   2.4s\n",
      "[CV] END activation=tanh, hidden_layer_sizes=15, learning_rate=adaptive, learning_rate_init=0.0001, shuffle=False, solver=adam; total time=   3.2s\n",
      "[CV] END activation=tanh, hidden_layer_sizes=15, learning_rate=adaptive, learning_rate_init=0.0005, shuffle=True, solver=adam; total time=   5.1s\n",
      "[CV] END activation=tanh, hidden_layer_sizes=15, learning_rate=adaptive, learning_rate_init=0.0005, shuffle=False, solver=adam; total time=   4.1s\n",
      "[CV] END activation=tanh, hidden_layer_sizes=15, learning_rate=adaptive, learning_rate_init=0.001, shuffle=True, solver=adam; total time=   5.2s\n",
      "[CV] END activation=tanh, hidden_layer_sizes=15, learning_rate=adaptive, learning_rate_init=0.001, shuffle=False, solver=adam; total time=   2.4s\n",
      "[CV] END activation=tanh, hidden_layer_sizes=15, learning_rate=adaptive, learning_rate_init=0.005, shuffle=True, solver=adam; total time=   1.3s\n",
      "[CV] END activation=tanh, hidden_layer_sizes=15, learning_rate=adaptive, learning_rate_init=0.005, shuffle=False, solver=adam; total time=   1.7s\n",
      "[CV] END activation=tanh, hidden_layer_sizes=15, learning_rate=adaptive, learning_rate_init=0.01, shuffle=True, solver=adam; total time=   1.8s\n",
      "[CV] END activation=tanh, hidden_layer_sizes=15, learning_rate=adaptive, learning_rate_init=0.01, shuffle=False, solver=adam; total time=   1.4s\n",
      "[CV] END activation=tanh, hidden_layer_sizes=(5, 5), learning_rate=constant, learning_rate_init=0, shuffle=True, solver=adam; total time=   0.0s\n",
      "[CV] END activation=tanh, hidden_layer_sizes=(5, 5), learning_rate=constant, learning_rate_init=0, shuffle=False, solver=adam; total time=   0.0s\n",
      "[CV] END activation=tanh, hidden_layer_sizes=(5, 5), learning_rate=constant, learning_rate_init=0.0001, shuffle=True, solver=adam; total time=   5.5s\n",
      "[CV] END activation=tanh, hidden_layer_sizes=(5, 5), learning_rate=constant, learning_rate_init=0.0001, shuffle=False, solver=adam; total time=   5.5s\n",
      "[CV] END activation=tanh, hidden_layer_sizes=(5, 5), learning_rate=constant, learning_rate_init=0.0005, shuffle=True, solver=adam; total time=   5.7s\n",
      "[CV] END activation=tanh, hidden_layer_sizes=(5, 5), learning_rate=constant, learning_rate_init=0.0005, shuffle=False, solver=adam; total time=   4.6s\n",
      "[CV] END activation=tanh, hidden_layer_sizes=(5, 5), learning_rate=constant, learning_rate_init=0.001, shuffle=True, solver=adam; total time=   4.6s\n",
      "[CV] END activation=tanh, hidden_layer_sizes=(5, 5), learning_rate=constant, learning_rate_init=0.001, shuffle=False, solver=adam; total time=   2.6s\n",
      "[CV] END activation=tanh, hidden_layer_sizes=(5, 5), learning_rate=constant, learning_rate_init=0.005, shuffle=True, solver=adam; total time=   2.1s\n",
      "[CV] END activation=tanh, hidden_layer_sizes=(5, 5), learning_rate=constant, learning_rate_init=0.005, shuffle=False, solver=adam; total time=   1.6s\n",
      "[CV] END activation=tanh, hidden_layer_sizes=(5, 5), learning_rate=constant, learning_rate_init=0.01, shuffle=True, solver=adam; total time=   1.1s\n",
      "[CV] END activation=tanh, hidden_layer_sizes=(5, 5), learning_rate=constant, learning_rate_init=0.01, shuffle=False, solver=adam; total time=   0.7s\n",
      "[CV] END activation=tanh, hidden_layer_sizes=(5, 5), learning_rate=invscaling, learning_rate_init=0, shuffle=True, solver=adam; total time=   0.0s\n",
      "[CV] END activation=tanh, hidden_layer_sizes=(5, 5), learning_rate=invscaling, learning_rate_init=0, shuffle=False, solver=adam; total time=   0.0s\n",
      "[CV] END activation=tanh, hidden_layer_sizes=(5, 5), learning_rate=invscaling, learning_rate_init=0.0001, shuffle=True, solver=adam; total time=   4.4s\n",
      "[CV] END activation=tanh, hidden_layer_sizes=(5, 5), learning_rate=invscaling, learning_rate_init=0.0001, shuffle=False, solver=adam; total time=   5.0s\n",
      "[CV] END activation=tanh, hidden_layer_sizes=(5, 5), learning_rate=invscaling, learning_rate_init=0.0005, shuffle=True, solver=adam; total time=   4.3s\n",
      "[CV] END activation=tanh, hidden_layer_sizes=(5, 5), learning_rate=invscaling, learning_rate_init=0.0005, shuffle=False, solver=adam; total time=   4.6s\n",
      "[CV] END activation=tanh, hidden_layer_sizes=(5, 5), learning_rate=invscaling, learning_rate_init=0.001, shuffle=True, solver=adam; total time=   6.4s\n",
      "[CV] END activation=tanh, hidden_layer_sizes=(5, 5), learning_rate=invscaling, learning_rate_init=0.001, shuffle=False, solver=adam; total time=   2.2s\n",
      "[CV] END activation=tanh, hidden_layer_sizes=(5, 5), learning_rate=invscaling, learning_rate_init=0.005, shuffle=True, solver=adam; total time=   2.3s\n",
      "[CV] END activation=tanh, hidden_layer_sizes=(5, 5), learning_rate=invscaling, learning_rate_init=0.005, shuffle=False, solver=adam; total time=   1.2s\n",
      "[CV] END activation=tanh, hidden_layer_sizes=(5, 5), learning_rate=invscaling, learning_rate_init=0.01, shuffle=True, solver=adam; total time=   1.0s\n",
      "[CV] END activation=tanh, hidden_layer_sizes=(5, 5), learning_rate=invscaling, learning_rate_init=0.01, shuffle=False, solver=adam; total time=   1.0s\n",
      "[CV] END activation=tanh, hidden_layer_sizes=(5, 5), learning_rate=adaptive, learning_rate_init=0, shuffle=True, solver=adam; total time=   0.0s\n",
      "[CV] END activation=tanh, hidden_layer_sizes=(5, 5), learning_rate=adaptive, learning_rate_init=0, shuffle=False, solver=adam; total time=   0.0s\n"
     ]
    },
    {
     "name": "stderr",
     "output_type": "stream",
     "text": [
      "C:\\Users\\mangu\\AppData\\Local\\Programs\\Python\\Python310\\lib\\site-packages\\sklearn\\neural_network\\_multilayer_perceptron.py:686: ConvergenceWarning: Stochastic Optimizer: Maximum iterations (500) reached and the optimization hasn't converged yet.\n",
      "  warnings.warn(\n"
     ]
    },
    {
     "name": "stdout",
     "output_type": "stream",
     "text": [
      "[CV] END activation=tanh, hidden_layer_sizes=(5, 5), learning_rate=adaptive, learning_rate_init=0.0001, shuffle=True, solver=adam; total time=   6.6s\n",
      "[CV] END activation=tanh, hidden_layer_sizes=(5, 5), learning_rate=adaptive, learning_rate_init=0.0001, shuffle=False, solver=adam; total time=   6.0s\n",
      "[CV] END activation=tanh, hidden_layer_sizes=(5, 5), learning_rate=adaptive, learning_rate_init=0.0005, shuffle=True, solver=adam; total time=   4.0s\n",
      "[CV] END activation=tanh, hidden_layer_sizes=(5, 5), learning_rate=adaptive, learning_rate_init=0.0005, shuffle=False, solver=adam; total time=   5.8s\n",
      "[CV] END activation=tanh, hidden_layer_sizes=(5, 5), learning_rate=adaptive, learning_rate_init=0.001, shuffle=True, solver=adam; total time=   4.0s\n",
      "[CV] END activation=tanh, hidden_layer_sizes=(5, 5), learning_rate=adaptive, learning_rate_init=0.001, shuffle=False, solver=adam; total time=   3.1s\n",
      "[CV] END activation=tanh, hidden_layer_sizes=(5, 5), learning_rate=adaptive, learning_rate_init=0.005, shuffle=True, solver=adam; total time=   2.1s\n",
      "[CV] END activation=tanh, hidden_layer_sizes=(5, 5), learning_rate=adaptive, learning_rate_init=0.005, shuffle=False, solver=adam; total time=   1.1s\n",
      "[CV] END activation=tanh, hidden_layer_sizes=(5, 5), learning_rate=adaptive, learning_rate_init=0.01, shuffle=True, solver=adam; total time=   0.8s\n",
      "[CV] END activation=tanh, hidden_layer_sizes=(5, 5), learning_rate=adaptive, learning_rate_init=0.01, shuffle=False, solver=adam; total time=   1.0s\n",
      "[CV] END activation=tanh, hidden_layer_sizes=(5, 10), learning_rate=constant, learning_rate_init=0, shuffle=True, solver=adam; total time=   0.0s\n",
      "[CV] END activation=tanh, hidden_layer_sizes=(5, 10), learning_rate=constant, learning_rate_init=0, shuffle=False, solver=adam; total time=   0.0s\n",
      "[CV] END activation=tanh, hidden_layer_sizes=(5, 10), learning_rate=constant, learning_rate_init=0.0001, shuffle=True, solver=adam; total time=   4.0s\n",
      "[CV] END activation=tanh, hidden_layer_sizes=(5, 10), learning_rate=constant, learning_rate_init=0.0001, shuffle=False, solver=adam; total time=   4.4s\n",
      "[CV] END activation=tanh, hidden_layer_sizes=(5, 10), learning_rate=constant, learning_rate_init=0.0005, shuffle=True, solver=adam; total time=   5.1s\n",
      "[CV] END activation=tanh, hidden_layer_sizes=(5, 10), learning_rate=constant, learning_rate_init=0.0005, shuffle=False, solver=adam; total time=   4.5s\n",
      "[CV] END activation=tanh, hidden_layer_sizes=(5, 10), learning_rate=constant, learning_rate_init=0.001, shuffle=True, solver=adam; total time=   4.5s\n",
      "[CV] END activation=tanh, hidden_layer_sizes=(5, 10), learning_rate=constant, learning_rate_init=0.001, shuffle=False, solver=adam; total time=   2.5s\n",
      "[CV] END activation=tanh, hidden_layer_sizes=(5, 10), learning_rate=constant, learning_rate_init=0.005, shuffle=True, solver=adam; total time=   2.3s\n",
      "[CV] END activation=tanh, hidden_layer_sizes=(5, 10), learning_rate=constant, learning_rate_init=0.005, shuffle=False, solver=adam; total time=   1.9s\n",
      "[CV] END activation=tanh, hidden_layer_sizes=(5, 10), learning_rate=constant, learning_rate_init=0.01, shuffle=True, solver=adam; total time=   1.5s\n",
      "[CV] END activation=tanh, hidden_layer_sizes=(5, 10), learning_rate=constant, learning_rate_init=0.01, shuffle=False, solver=adam; total time=   1.1s\n",
      "[CV] END activation=tanh, hidden_layer_sizes=(5, 10), learning_rate=invscaling, learning_rate_init=0, shuffle=True, solver=adam; total time=   0.0s\n",
      "[CV] END activation=tanh, hidden_layer_sizes=(5, 10), learning_rate=invscaling, learning_rate_init=0, shuffle=False, solver=adam; total time=   0.0s\n",
      "[CV] END activation=tanh, hidden_layer_sizes=(5, 10), learning_rate=invscaling, learning_rate_init=0.0001, shuffle=True, solver=adam; total time=   3.8s\n",
      "[CV] END activation=tanh, hidden_layer_sizes=(5, 10), learning_rate=invscaling, learning_rate_init=0.0001, shuffle=False, solver=adam; total time=   5.0s\n",
      "[CV] END activation=tanh, hidden_layer_sizes=(5, 10), learning_rate=invscaling, learning_rate_init=0.0005, shuffle=True, solver=adam; total time=   5.6s\n",
      "[CV] END activation=tanh, hidden_layer_sizes=(5, 10), learning_rate=invscaling, learning_rate_init=0.0005, shuffle=False, solver=adam; total time=   3.5s\n",
      "[CV] END activation=tanh, hidden_layer_sizes=(5, 10), learning_rate=invscaling, learning_rate_init=0.001, shuffle=True, solver=adam; total time=   3.7s\n",
      "[CV] END activation=tanh, hidden_layer_sizes=(5, 10), learning_rate=invscaling, learning_rate_init=0.001, shuffle=False, solver=adam; total time=   2.1s\n",
      "[CV] END activation=tanh, hidden_layer_sizes=(5, 10), learning_rate=invscaling, learning_rate_init=0.005, shuffle=True, solver=adam; total time=   3.1s\n",
      "[CV] END activation=tanh, hidden_layer_sizes=(5, 10), learning_rate=invscaling, learning_rate_init=0.005, shuffle=False, solver=adam; total time=   2.2s\n",
      "[CV] END activation=tanh, hidden_layer_sizes=(5, 10), learning_rate=invscaling, learning_rate_init=0.01, shuffle=True, solver=adam; total time=   1.9s\n",
      "[CV] END activation=tanh, hidden_layer_sizes=(5, 10), learning_rate=invscaling, learning_rate_init=0.01, shuffle=False, solver=adam; total time=   1.6s\n",
      "[CV] END activation=tanh, hidden_layer_sizes=(5, 10), learning_rate=adaptive, learning_rate_init=0, shuffle=True, solver=adam; total time=   0.0s\n",
      "[CV] END activation=tanh, hidden_layer_sizes=(5, 10), learning_rate=adaptive, learning_rate_init=0, shuffle=False, solver=adam; total time=   0.0s\n",
      "[CV] END activation=tanh, hidden_layer_sizes=(5, 10), learning_rate=adaptive, learning_rate_init=0.0001, shuffle=True, solver=adam; total time=   4.1s\n",
      "[CV] END activation=tanh, hidden_layer_sizes=(5, 10), learning_rate=adaptive, learning_rate_init=0.0001, shuffle=False, solver=adam; total time=   5.3s\n"
     ]
    },
    {
     "name": "stderr",
     "output_type": "stream",
     "text": [
      "C:\\Users\\mangu\\AppData\\Local\\Programs\\Python\\Python310\\lib\\site-packages\\sklearn\\neural_network\\_multilayer_perceptron.py:686: ConvergenceWarning: Stochastic Optimizer: Maximum iterations (500) reached and the optimization hasn't converged yet.\n",
      "  warnings.warn(\n"
     ]
    },
    {
     "name": "stdout",
     "output_type": "stream",
     "text": [
      "[CV] END activation=tanh, hidden_layer_sizes=(5, 10), learning_rate=adaptive, learning_rate_init=0.0005, shuffle=True, solver=adam; total time=   6.8s\n",
      "[CV] END activation=tanh, hidden_layer_sizes=(5, 10), learning_rate=adaptive, learning_rate_init=0.0005, shuffle=False, solver=adam; total time=   4.6s\n",
      "[CV] END activation=tanh, hidden_layer_sizes=(5, 10), learning_rate=adaptive, learning_rate_init=0.001, shuffle=True, solver=adam; total time=   4.3s\n",
      "[CV] END activation=tanh, hidden_layer_sizes=(5, 10), learning_rate=adaptive, learning_rate_init=0.001, shuffle=False, solver=adam; total time=   2.6s\n",
      "[CV] END activation=tanh, hidden_layer_sizes=(5, 10), learning_rate=adaptive, learning_rate_init=0.005, shuffle=True, solver=adam; total time=   4.1s\n",
      "[CV] END activation=tanh, hidden_layer_sizes=(5, 10), learning_rate=adaptive, learning_rate_init=0.005, shuffle=False, solver=adam; total time=   3.4s\n",
      "[CV] END activation=tanh, hidden_layer_sizes=(5, 10), learning_rate=adaptive, learning_rate_init=0.01, shuffle=True, solver=adam; total time=   7.0s\n",
      "[CV] END activation=tanh, hidden_layer_sizes=(5, 10), learning_rate=adaptive, learning_rate_init=0.01, shuffle=False, solver=adam; total time=   4.4s\n",
      "[CV] END activation=tanh, hidden_layer_sizes=(5, 10, 15, 20), learning_rate=constant, learning_rate_init=0, shuffle=True, solver=adam; total time=   0.0s\n",
      "[CV] END activation=tanh, hidden_layer_sizes=(5, 10, 15, 20), learning_rate=constant, learning_rate_init=0, shuffle=False, solver=adam; total time=   0.0s\n",
      "[CV] END activation=tanh, hidden_layer_sizes=(5, 10, 15, 20), learning_rate=constant, learning_rate_init=0.0001, shuffle=True, solver=adam; total time=  35.0s\n"
     ]
    },
    {
     "name": "stderr",
     "output_type": "stream",
     "text": [
      "C:\\Users\\mangu\\AppData\\Local\\Programs\\Python\\Python310\\lib\\site-packages\\sklearn\\neural_network\\_multilayer_perceptron.py:686: ConvergenceWarning: Stochastic Optimizer: Maximum iterations (500) reached and the optimization hasn't converged yet.\n",
      "  warnings.warn(\n"
     ]
    },
    {
     "name": "stdout",
     "output_type": "stream",
     "text": [
      "[CV] END activation=tanh, hidden_layer_sizes=(5, 10, 15, 20), learning_rate=constant, learning_rate_init=0.0001, shuffle=False, solver=adam; total time=  41.9s\n",
      "[CV] END activation=tanh, hidden_layer_sizes=(5, 10, 15, 20), learning_rate=constant, learning_rate_init=0.0005, shuffle=True, solver=adam; total time=  40.3s\n",
      "[CV] END activation=tanh, hidden_layer_sizes=(5, 10, 15, 20), learning_rate=constant, learning_rate_init=0.0005, shuffle=False, solver=adam; total time=  18.8s\n",
      "[CV] END activation=tanh, hidden_layer_sizes=(5, 10, 15, 20), learning_rate=constant, learning_rate_init=0.001, shuffle=True, solver=adam; total time=  10.8s\n",
      "[CV] END activation=tanh, hidden_layer_sizes=(5, 10, 15, 20), learning_rate=constant, learning_rate_init=0.001, shuffle=False, solver=adam; total time=  10.4s\n",
      "[CV] END activation=tanh, hidden_layer_sizes=(5, 10, 15, 20), learning_rate=constant, learning_rate_init=0.005, shuffle=True, solver=adam; total time=   6.7s\n",
      "[CV] END activation=tanh, hidden_layer_sizes=(5, 10, 15, 20), learning_rate=constant, learning_rate_init=0.005, shuffle=False, solver=adam; total time=   6.0s\n",
      "[CV] END activation=tanh, hidden_layer_sizes=(5, 10, 15, 20), learning_rate=constant, learning_rate_init=0.01, shuffle=True, solver=adam; total time=   5.1s\n",
      "[CV] END activation=tanh, hidden_layer_sizes=(5, 10, 15, 20), learning_rate=constant, learning_rate_init=0.01, shuffle=False, solver=adam; total time=   5.0s\n",
      "[CV] END activation=tanh, hidden_layer_sizes=(5, 10, 15, 20), learning_rate=invscaling, learning_rate_init=0, shuffle=True, solver=adam; total time=   0.0s\n",
      "[CV] END activation=tanh, hidden_layer_sizes=(5, 10, 15, 20), learning_rate=invscaling, learning_rate_init=0, shuffle=False, solver=adam; total time=   0.0s\n",
      "[CV] END activation=tanh, hidden_layer_sizes=(5, 10, 15, 20), learning_rate=invscaling, learning_rate_init=0.0001, shuffle=True, solver=adam; total time=  11.0s\n",
      "[CV] END activation=tanh, hidden_layer_sizes=(5, 10, 15, 20), learning_rate=invscaling, learning_rate_init=0.0001, shuffle=False, solver=adam; total time=   6.2s\n",
      "[CV] END activation=tanh, hidden_layer_sizes=(5, 10, 15, 20), learning_rate=invscaling, learning_rate_init=0.0005, shuffle=True, solver=adam; total time=  11.7s\n",
      "[CV] END activation=tanh, hidden_layer_sizes=(5, 10, 15, 20), learning_rate=invscaling, learning_rate_init=0.0005, shuffle=False, solver=adam; total time=   9.1s\n",
      "[CV] END activation=tanh, hidden_layer_sizes=(5, 10, 15, 20), learning_rate=invscaling, learning_rate_init=0.001, shuffle=True, solver=adam; total time=  12.4s\n",
      "[CV] END activation=tanh, hidden_layer_sizes=(5, 10, 15, 20), learning_rate=invscaling, learning_rate_init=0.001, shuffle=False, solver=adam; total time=   5.3s\n",
      "[CV] END activation=tanh, hidden_layer_sizes=(5, 10, 15, 20), learning_rate=invscaling, learning_rate_init=0.005, shuffle=True, solver=adam; total time=   5.8s\n",
      "[CV] END activation=tanh, hidden_layer_sizes=(5, 10, 15, 20), learning_rate=invscaling, learning_rate_init=0.005, shuffle=False, solver=adam; total time=  11.7s\n",
      "[CV] END activation=tanh, hidden_layer_sizes=(5, 10, 15, 20), learning_rate=invscaling, learning_rate_init=0.01, shuffle=True, solver=adam; total time=   5.1s\n",
      "[CV] END activation=tanh, hidden_layer_sizes=(5, 10, 15, 20), learning_rate=invscaling, learning_rate_init=0.01, shuffle=False, solver=adam; total time=   5.0s\n",
      "[CV] END activation=tanh, hidden_layer_sizes=(5, 10, 15, 20), learning_rate=adaptive, learning_rate_init=0, shuffle=True, solver=adam; total time=   0.0s\n",
      "[CV] END activation=tanh, hidden_layer_sizes=(5, 10, 15, 20), learning_rate=adaptive, learning_rate_init=0, shuffle=False, solver=adam; total time=   0.0s\n"
     ]
    },
    {
     "name": "stderr",
     "output_type": "stream",
     "text": [
      "C:\\Users\\mangu\\AppData\\Local\\Programs\\Python\\Python310\\lib\\site-packages\\sklearn\\neural_network\\_multilayer_perceptron.py:686: ConvergenceWarning: Stochastic Optimizer: Maximum iterations (500) reached and the optimization hasn't converged yet.\n",
      "  warnings.warn(\n"
     ]
    },
    {
     "name": "stdout",
     "output_type": "stream",
     "text": [
      "[CV] END activation=tanh, hidden_layer_sizes=(5, 10, 15, 20), learning_rate=adaptive, learning_rate_init=0.0001, shuffle=True, solver=adam; total time=  18.4s\n",
      "[CV] END activation=tanh, hidden_layer_sizes=(5, 10, 15, 20), learning_rate=adaptive, learning_rate_init=0.0001, shuffle=False, solver=adam; total time=   6.8s\n"
     ]
    },
    {
     "name": "stderr",
     "output_type": "stream",
     "text": [
      "C:\\Users\\mangu\\AppData\\Local\\Programs\\Python\\Python310\\lib\\site-packages\\sklearn\\neural_network\\_multilayer_perceptron.py:686: ConvergenceWarning: Stochastic Optimizer: Maximum iterations (500) reached and the optimization hasn't converged yet.\n",
      "  warnings.warn(\n"
     ]
    },
    {
     "name": "stdout",
     "output_type": "stream",
     "text": [
      "[CV] END activation=tanh, hidden_layer_sizes=(5, 10, 15, 20), learning_rate=adaptive, learning_rate_init=0.0005, shuffle=True, solver=adam; total time=  21.0s\n",
      "[CV] END activation=tanh, hidden_layer_sizes=(5, 10, 15, 20), learning_rate=adaptive, learning_rate_init=0.0005, shuffle=False, solver=adam; total time=  10.7s\n",
      "[CV] END activation=tanh, hidden_layer_sizes=(5, 10, 15, 20), learning_rate=adaptive, learning_rate_init=0.001, shuffle=True, solver=adam; total time=   7.2s\n",
      "[CV] END activation=tanh, hidden_layer_sizes=(5, 10, 15, 20), learning_rate=adaptive, learning_rate_init=0.001, shuffle=False, solver=adam; total time=   7.8s\n",
      "[CV] END activation=tanh, hidden_layer_sizes=(5, 10, 15, 20), learning_rate=adaptive, learning_rate_init=0.005, shuffle=True, solver=adam; total time=   7.5s\n",
      "[CV] END activation=tanh, hidden_layer_sizes=(5, 10, 15, 20), learning_rate=adaptive, learning_rate_init=0.005, shuffle=False, solver=adam; total time=   8.1s\n",
      "[CV] END activation=tanh, hidden_layer_sizes=(5, 10, 15, 20), learning_rate=adaptive, learning_rate_init=0.01, shuffle=True, solver=adam; total time=   3.8s\n",
      "[CV] END activation=tanh, hidden_layer_sizes=(5, 10, 15, 20), learning_rate=adaptive, learning_rate_init=0.01, shuffle=False, solver=adam; total time=   5.7s\n",
      "[CV] END activation=tanh, hidden_layer_sizes=(5, 15, 30, 50), learning_rate=constant, learning_rate_init=0, shuffle=True, solver=adam; total time=   0.0s\n",
      "[CV] END activation=tanh, hidden_layer_sizes=(5, 15, 30, 50), learning_rate=constant, learning_rate_init=0, shuffle=False, solver=adam; total time=   0.0s\n",
      "[CV] END activation=tanh, hidden_layer_sizes=(5, 15, 30, 50), learning_rate=constant, learning_rate_init=0.0001, shuffle=True, solver=adam; total time=  34.4s\n",
      "[CV] END activation=tanh, hidden_layer_sizes=(5, 15, 30, 50), learning_rate=constant, learning_rate_init=0.0001, shuffle=False, solver=adam; total time=  15.1s\n",
      "[CV] END activation=tanh, hidden_layer_sizes=(5, 15, 30, 50), learning_rate=constant, learning_rate_init=0.0005, shuffle=True, solver=adam; total time=  26.2s\n",
      "[CV] END activation=tanh, hidden_layer_sizes=(5, 15, 30, 50), learning_rate=constant, learning_rate_init=0.0005, shuffle=False, solver=adam; total time=  22.0s\n",
      "[CV] END activation=tanh, hidden_layer_sizes=(5, 15, 30, 50), learning_rate=constant, learning_rate_init=0.001, shuffle=True, solver=adam; total time=  18.1s\n",
      "[CV] END activation=tanh, hidden_layer_sizes=(5, 15, 30, 50), learning_rate=constant, learning_rate_init=0.001, shuffle=False, solver=adam; total time=  18.6s\n",
      "[CV] END activation=tanh, hidden_layer_sizes=(5, 15, 30, 50), learning_rate=constant, learning_rate_init=0.005, shuffle=True, solver=adam; total time=  31.5s\n",
      "[CV] END activation=tanh, hidden_layer_sizes=(5, 15, 30, 50), learning_rate=constant, learning_rate_init=0.005, shuffle=False, solver=adam; total time=  13.3s\n",
      "[CV] END activation=tanh, hidden_layer_sizes=(5, 15, 30, 50), learning_rate=constant, learning_rate_init=0.01, shuffle=True, solver=adam; total time=  22.6s\n",
      "[CV] END activation=tanh, hidden_layer_sizes=(5, 15, 30, 50), learning_rate=constant, learning_rate_init=0.01, shuffle=False, solver=adam; total time=   8.4s\n",
      "[CV] END activation=tanh, hidden_layer_sizes=(5, 15, 30, 50), learning_rate=invscaling, learning_rate_init=0, shuffle=True, solver=adam; total time=   0.0s\n",
      "[CV] END activation=tanh, hidden_layer_sizes=(5, 15, 30, 50), learning_rate=invscaling, learning_rate_init=0, shuffle=False, solver=adam; total time=   0.0s\n",
      "[CV] END activation=tanh, hidden_layer_sizes=(5, 15, 30, 50), learning_rate=invscaling, learning_rate_init=0.0001, shuffle=True, solver=adam; total time=  36.4s\n",
      "[CV] END activation=tanh, hidden_layer_sizes=(5, 15, 30, 50), learning_rate=invscaling, learning_rate_init=0.0001, shuffle=False, solver=adam; total time=  15.7s\n"
     ]
    },
    {
     "name": "stderr",
     "output_type": "stream",
     "text": [
      "C:\\Users\\mangu\\AppData\\Local\\Programs\\Python\\Python310\\lib\\site-packages\\sklearn\\neural_network\\_multilayer_perceptron.py:686: ConvergenceWarning: Stochastic Optimizer: Maximum iterations (500) reached and the optimization hasn't converged yet.\n",
      "  warnings.warn(\n"
     ]
    },
    {
     "name": "stdout",
     "output_type": "stream",
     "text": [
      "[CV] END activation=tanh, hidden_layer_sizes=(5, 15, 30, 50), learning_rate=invscaling, learning_rate_init=0.0005, shuffle=True, solver=adam; total time=  50.0s\n",
      "[CV] END activation=tanh, hidden_layer_sizes=(5, 15, 30, 50), learning_rate=invscaling, learning_rate_init=0.0005, shuffle=False, solver=adam; total time=  32.8s\n",
      "[CV] END activation=tanh, hidden_layer_sizes=(5, 15, 30, 50), learning_rate=invscaling, learning_rate_init=0.001, shuffle=True, solver=adam; total time=  19.5s\n",
      "[CV] END activation=tanh, hidden_layer_sizes=(5, 15, 30, 50), learning_rate=invscaling, learning_rate_init=0.001, shuffle=False, solver=adam; total time=  31.5s\n",
      "[CV] END activation=tanh, hidden_layer_sizes=(5, 15, 30, 50), learning_rate=invscaling, learning_rate_init=0.005, shuffle=True, solver=adam; total time=   7.3s\n",
      "[CV] END activation=tanh, hidden_layer_sizes=(5, 15, 30, 50), learning_rate=invscaling, learning_rate_init=0.005, shuffle=False, solver=adam; total time=  18.4s\n",
      "[CV] END activation=tanh, hidden_layer_sizes=(5, 15, 30, 50), learning_rate=invscaling, learning_rate_init=0.01, shuffle=True, solver=adam; total time=  12.6s\n",
      "[CV] END activation=tanh, hidden_layer_sizes=(5, 15, 30, 50), learning_rate=invscaling, learning_rate_init=0.01, shuffle=False, solver=adam; total time=   6.3s\n",
      "[CV] END activation=tanh, hidden_layer_sizes=(5, 15, 30, 50), learning_rate=adaptive, learning_rate_init=0, shuffle=True, solver=adam; total time=   0.0s\n",
      "[CV] END activation=tanh, hidden_layer_sizes=(5, 15, 30, 50), learning_rate=adaptive, learning_rate_init=0, shuffle=False, solver=adam; total time=   0.0s\n",
      "[CV] END activation=tanh, hidden_layer_sizes=(5, 15, 30, 50), learning_rate=adaptive, learning_rate_init=0.0001, shuffle=True, solver=adam; total time=  30.0s\n",
      "[CV] END activation=tanh, hidden_layer_sizes=(5, 15, 30, 50), learning_rate=adaptive, learning_rate_init=0.0001, shuffle=False, solver=adam; total time=  21.1s\n",
      "[CV] END activation=tanh, hidden_layer_sizes=(5, 15, 30, 50), learning_rate=adaptive, learning_rate_init=0.0005, shuffle=True, solver=adam; total time=  28.5s\n",
      "[CV] END activation=tanh, hidden_layer_sizes=(5, 15, 30, 50), learning_rate=adaptive, learning_rate_init=0.0005, shuffle=False, solver=adam; total time=  29.5s\n",
      "[CV] END activation=tanh, hidden_layer_sizes=(5, 15, 30, 50), learning_rate=adaptive, learning_rate_init=0.001, shuffle=True, solver=adam; total time=  24.7s\n",
      "[CV] END activation=tanh, hidden_layer_sizes=(5, 15, 30, 50), learning_rate=adaptive, learning_rate_init=0.001, shuffle=False, solver=adam; total time=  11.3s\n",
      "[CV] END activation=tanh, hidden_layer_sizes=(5, 15, 30, 50), learning_rate=adaptive, learning_rate_init=0.005, shuffle=True, solver=adam; total time=  12.5s\n",
      "[CV] END activation=tanh, hidden_layer_sizes=(5, 15, 30, 50), learning_rate=adaptive, learning_rate_init=0.005, shuffle=False, solver=adam; total time=  16.4s\n",
      "[CV] END activation=tanh, hidden_layer_sizes=(5, 15, 30, 50), learning_rate=adaptive, learning_rate_init=0.01, shuffle=True, solver=adam; total time=  20.5s\n",
      "[CV] END activation=tanh, hidden_layer_sizes=(5, 15, 30, 50), learning_rate=adaptive, learning_rate_init=0.01, shuffle=False, solver=adam; total time=  11.7s\n",
      "[CV] END activation=relu, hidden_layer_sizes=5, learning_rate=constant, learning_rate_init=0, shuffle=True, solver=adam; total time=   0.0s\n",
      "[CV] END activation=relu, hidden_layer_sizes=5, learning_rate=constant, learning_rate_init=0, shuffle=False, solver=adam; total time=   0.0s\n",
      "[CV] END activation=relu, hidden_layer_sizes=5, learning_rate=constant, learning_rate_init=0.0001, shuffle=True, solver=adam; total time=   4.5s\n",
      "[CV] END activation=relu, hidden_layer_sizes=5, learning_rate=constant, learning_rate_init=0.0001, shuffle=False, solver=adam; total time=   2.3s\n",
      "[CV] END activation=relu, hidden_layer_sizes=5, learning_rate=constant, learning_rate_init=0.0005, shuffle=True, solver=adam; total time=   3.5s\n",
      "[CV] END activation=relu, hidden_layer_sizes=5, learning_rate=constant, learning_rate_init=0.0005, shuffle=False, solver=adam; total time=   6.9s\n",
      "[CV] END activation=relu, hidden_layer_sizes=5, learning_rate=constant, learning_rate_init=0.001, shuffle=True, solver=adam; total time=   9.4s\n",
      "[CV] END activation=relu, hidden_layer_sizes=5, learning_rate=constant, learning_rate_init=0.001, shuffle=False, solver=adam; total time=   4.8s\n",
      "[CV] END activation=relu, hidden_layer_sizes=5, learning_rate=constant, learning_rate_init=0.005, shuffle=True, solver=adam; total time=   1.9s\n",
      "[CV] END activation=relu, hidden_layer_sizes=5, learning_rate=constant, learning_rate_init=0.005, shuffle=False, solver=adam; total time=   1.1s\n",
      "[CV] END activation=relu, hidden_layer_sizes=5, learning_rate=constant, learning_rate_init=0.01, shuffle=True, solver=adam; total time=   0.7s\n",
      "[CV] END activation=relu, hidden_layer_sizes=5, learning_rate=constant, learning_rate_init=0.01, shuffle=False, solver=adam; total time=   1.0s\n",
      "[CV] END activation=relu, hidden_layer_sizes=5, learning_rate=invscaling, learning_rate_init=0, shuffle=True, solver=adam; total time=   0.0s\n",
      "[CV] END activation=relu, hidden_layer_sizes=5, learning_rate=invscaling, learning_rate_init=0, shuffle=False, solver=adam; total time=   0.0s\n",
      "[CV] END activation=relu, hidden_layer_sizes=5, learning_rate=invscaling, learning_rate_init=0.0001, shuffle=True, solver=adam; total time=   1.7s\n",
      "[CV] END activation=relu, hidden_layer_sizes=5, learning_rate=invscaling, learning_rate_init=0.0001, shuffle=False, solver=adam; total time=   2.7s\n",
      "[CV] END activation=relu, hidden_layer_sizes=5, learning_rate=invscaling, learning_rate_init=0.0005, shuffle=True, solver=adam; total time=  13.3s\n",
      "[CV] END activation=relu, hidden_layer_sizes=5, learning_rate=invscaling, learning_rate_init=0.0005, shuffle=False, solver=adam; total time=   3.8s\n",
      "[CV] END activation=relu, hidden_layer_sizes=5, learning_rate=invscaling, learning_rate_init=0.001, shuffle=True, solver=adam; total time=   4.3s\n",
      "[CV] END activation=relu, hidden_layer_sizes=5, learning_rate=invscaling, learning_rate_init=0.001, shuffle=False, solver=adam; total time=   1.7s\n",
      "[CV] END activation=relu, hidden_layer_sizes=5, learning_rate=invscaling, learning_rate_init=0.005, shuffle=True, solver=adam; total time=   1.5s\n",
      "[CV] END activation=relu, hidden_layer_sizes=5, learning_rate=invscaling, learning_rate_init=0.005, shuffle=False, solver=adam; total time=   2.3s\n",
      "[CV] END activation=relu, hidden_layer_sizes=5, learning_rate=invscaling, learning_rate_init=0.01, shuffle=True, solver=adam; total time=   2.4s\n",
      "[CV] END activation=relu, hidden_layer_sizes=5, learning_rate=invscaling, learning_rate_init=0.01, shuffle=False, solver=adam; total time=   2.6s\n",
      "[CV] END activation=relu, hidden_layer_sizes=5, learning_rate=adaptive, learning_rate_init=0, shuffle=True, solver=adam; total time=   0.0s\n",
      "[CV] END activation=relu, hidden_layer_sizes=5, learning_rate=adaptive, learning_rate_init=0, shuffle=False, solver=adam; total time=   0.0s\n",
      "[CV] END activation=relu, hidden_layer_sizes=5, learning_rate=adaptive, learning_rate_init=0.0001, shuffle=True, solver=adam; total time=   7.0s\n",
      "[CV] END activation=relu, hidden_layer_sizes=5, learning_rate=adaptive, learning_rate_init=0.0001, shuffle=False, solver=adam; total time=   2.0s\n"
     ]
    },
    {
     "name": "stderr",
     "output_type": "stream",
     "text": [
      "C:\\Users\\mangu\\AppData\\Local\\Programs\\Python\\Python310\\lib\\site-packages\\sklearn\\neural_network\\_multilayer_perceptron.py:686: ConvergenceWarning: Stochastic Optimizer: Maximum iterations (500) reached and the optimization hasn't converged yet.\n",
      "  warnings.warn(\n"
     ]
    },
    {
     "name": "stdout",
     "output_type": "stream",
     "text": [
      "[CV] END activation=relu, hidden_layer_sizes=5, learning_rate=adaptive, learning_rate_init=0.0005, shuffle=True, solver=adam; total time=   4.8s\n",
      "[CV] END activation=relu, hidden_layer_sizes=5, learning_rate=adaptive, learning_rate_init=0.0005, shuffle=False, solver=adam; total time=   3.4s\n",
      "[CV] END activation=relu, hidden_layer_sizes=5, learning_rate=adaptive, learning_rate_init=0.001, shuffle=True, solver=adam; total time=   5.7s\n",
      "[CV] END activation=relu, hidden_layer_sizes=5, learning_rate=adaptive, learning_rate_init=0.001, shuffle=False, solver=adam; total time=   5.3s\n",
      "[CV] END activation=relu, hidden_layer_sizes=5, learning_rate=adaptive, learning_rate_init=0.005, shuffle=True, solver=adam; total time=   2.5s\n",
      "[CV] END activation=relu, hidden_layer_sizes=5, learning_rate=adaptive, learning_rate_init=0.005, shuffle=False, solver=adam; total time=   0.9s\n",
      "[CV] END activation=relu, hidden_layer_sizes=5, learning_rate=adaptive, learning_rate_init=0.01, shuffle=True, solver=adam; total time=   1.0s\n",
      "[CV] END activation=relu, hidden_layer_sizes=5, learning_rate=adaptive, learning_rate_init=0.01, shuffle=False, solver=adam; total time=   0.8s\n",
      "[CV] END activation=relu, hidden_layer_sizes=10, learning_rate=constant, learning_rate_init=0, shuffle=True, solver=adam; total time=   0.0s\n",
      "[CV] END activation=relu, hidden_layer_sizes=10, learning_rate=constant, learning_rate_init=0, shuffle=False, solver=adam; total time=   0.0s\n",
      "[CV] END activation=relu, hidden_layer_sizes=10, learning_rate=constant, learning_rate_init=0.0001, shuffle=True, solver=adam; total time=   3.4s\n"
     ]
    },
    {
     "name": "stderr",
     "output_type": "stream",
     "text": [
      "C:\\Users\\mangu\\AppData\\Local\\Programs\\Python\\Python310\\lib\\site-packages\\sklearn\\neural_network\\_multilayer_perceptron.py:686: ConvergenceWarning: Stochastic Optimizer: Maximum iterations (500) reached and the optimization hasn't converged yet.\n",
      "  warnings.warn(\n"
     ]
    },
    {
     "name": "stdout",
     "output_type": "stream",
     "text": [
      "[CV] END activation=relu, hidden_layer_sizes=10, learning_rate=constant, learning_rate_init=0.0001, shuffle=False, solver=adam; total time=   4.3s\n",
      "[CV] END activation=relu, hidden_layer_sizes=10, learning_rate=constant, learning_rate_init=0.0005, shuffle=True, solver=adam; total time=   8.6s\n",
      "[CV] END activation=relu, hidden_layer_sizes=10, learning_rate=constant, learning_rate_init=0.0005, shuffle=False, solver=adam; total time=   3.0s\n",
      "[CV] END activation=relu, hidden_layer_sizes=10, learning_rate=constant, learning_rate_init=0.001, shuffle=True, solver=adam; total time=   4.5s\n",
      "[CV] END activation=relu, hidden_layer_sizes=10, learning_rate=constant, learning_rate_init=0.001, shuffle=False, solver=adam; total time=   2.0s\n",
      "[CV] END activation=relu, hidden_layer_sizes=10, learning_rate=constant, learning_rate_init=0.005, shuffle=True, solver=adam; total time=   1.8s\n",
      "[CV] END activation=relu, hidden_layer_sizes=10, learning_rate=constant, learning_rate_init=0.005, shuffle=False, solver=adam; total time=   1.1s\n",
      "[CV] END activation=relu, hidden_layer_sizes=10, learning_rate=constant, learning_rate_init=0.01, shuffle=True, solver=adam; total time=   1.2s\n",
      "[CV] END activation=relu, hidden_layer_sizes=10, learning_rate=constant, learning_rate_init=0.01, shuffle=False, solver=adam; total time=   1.1s\n",
      "[CV] END activation=relu, hidden_layer_sizes=10, learning_rate=invscaling, learning_rate_init=0, shuffle=True, solver=adam; total time=   0.0s\n",
      "[CV] END activation=relu, hidden_layer_sizes=10, learning_rate=invscaling, learning_rate_init=0, shuffle=False, solver=adam; total time=   0.0s\n",
      "[CV] END activation=relu, hidden_layer_sizes=10, learning_rate=invscaling, learning_rate_init=0.0001, shuffle=True, solver=adam; total time=   4.1s\n",
      "[CV] END activation=relu, hidden_layer_sizes=10, learning_rate=invscaling, learning_rate_init=0.0001, shuffle=False, solver=adam; total time=   3.9s\n",
      "[CV] END activation=relu, hidden_layer_sizes=10, learning_rate=invscaling, learning_rate_init=0.0005, shuffle=True, solver=adam; total time=   5.7s\n",
      "[CV] END activation=relu, hidden_layer_sizes=10, learning_rate=invscaling, learning_rate_init=0.0005, shuffle=False, solver=adam; total time=   3.8s\n",
      "[CV] END activation=relu, hidden_layer_sizes=10, learning_rate=invscaling, learning_rate_init=0.001, shuffle=True, solver=adam; total time=   3.8s\n",
      "[CV] END activation=relu, hidden_layer_sizes=10, learning_rate=invscaling, learning_rate_init=0.001, shuffle=False, solver=adam; total time=   2.2s\n",
      "[CV] END activation=relu, hidden_layer_sizes=10, learning_rate=invscaling, learning_rate_init=0.005, shuffle=True, solver=adam; total time=   1.1s\n",
      "[CV] END activation=relu, hidden_layer_sizes=10, learning_rate=invscaling, learning_rate_init=0.005, shuffle=False, solver=adam; total time=   1.0s\n",
      "[CV] END activation=relu, hidden_layer_sizes=10, learning_rate=invscaling, learning_rate_init=0.01, shuffle=True, solver=adam; total time=   1.0s\n",
      "[CV] END activation=relu, hidden_layer_sizes=10, learning_rate=invscaling, learning_rate_init=0.01, shuffle=False, solver=adam; total time=   1.5s\n",
      "[CV] END activation=relu, hidden_layer_sizes=10, learning_rate=adaptive, learning_rate_init=0, shuffle=True, solver=adam; total time=   0.0s\n",
      "[CV] END activation=relu, hidden_layer_sizes=10, learning_rate=adaptive, learning_rate_init=0, shuffle=False, solver=adam; total time=   0.0s\n",
      "[CV] END activation=relu, hidden_layer_sizes=10, learning_rate=adaptive, learning_rate_init=0.0001, shuffle=True, solver=adam; total time=   8.5s\n"
     ]
    },
    {
     "name": "stderr",
     "output_type": "stream",
     "text": [
      "C:\\Users\\mangu\\AppData\\Local\\Programs\\Python\\Python310\\lib\\site-packages\\sklearn\\neural_network\\_multilayer_perceptron.py:686: ConvergenceWarning: Stochastic Optimizer: Maximum iterations (500) reached and the optimization hasn't converged yet.\n",
      "  warnings.warn(\n"
     ]
    },
    {
     "name": "stdout",
     "output_type": "stream",
     "text": [
      "[CV] END activation=relu, hidden_layer_sizes=10, learning_rate=adaptive, learning_rate_init=0.0001, shuffle=False, solver=adam; total time=   6.4s\n",
      "[CV] END activation=relu, hidden_layer_sizes=10, learning_rate=adaptive, learning_rate_init=0.0005, shuffle=True, solver=adam; total time=   3.1s\n",
      "[CV] END activation=relu, hidden_layer_sizes=10, learning_rate=adaptive, learning_rate_init=0.0005, shuffle=False, solver=adam; total time=   3.2s\n",
      "[CV] END activation=relu, hidden_layer_sizes=10, learning_rate=adaptive, learning_rate_init=0.001, shuffle=True, solver=adam; total time=   4.7s\n",
      "[CV] END activation=relu, hidden_layer_sizes=10, learning_rate=adaptive, learning_rate_init=0.001, shuffle=False, solver=adam; total time=   3.2s\n",
      "[CV] END activation=relu, hidden_layer_sizes=10, learning_rate=adaptive, learning_rate_init=0.005, shuffle=True, solver=adam; total time=   2.9s\n",
      "[CV] END activation=relu, hidden_layer_sizes=10, learning_rate=adaptive, learning_rate_init=0.005, shuffle=False, solver=adam; total time=   1.3s\n",
      "[CV] END activation=relu, hidden_layer_sizes=10, learning_rate=adaptive, learning_rate_init=0.01, shuffle=True, solver=adam; total time=   0.5s\n",
      "[CV] END activation=relu, hidden_layer_sizes=10, learning_rate=adaptive, learning_rate_init=0.01, shuffle=False, solver=adam; total time=   0.7s\n",
      "[CV] END activation=relu, hidden_layer_sizes=15, learning_rate=constant, learning_rate_init=0, shuffle=True, solver=adam; total time=   0.0s\n",
      "[CV] END activation=relu, hidden_layer_sizes=15, learning_rate=constant, learning_rate_init=0, shuffle=False, solver=adam; total time=   0.0s\n"
     ]
    },
    {
     "name": "stderr",
     "output_type": "stream",
     "text": [
      "C:\\Users\\mangu\\AppData\\Local\\Programs\\Python\\Python310\\lib\\site-packages\\sklearn\\neural_network\\_multilayer_perceptron.py:686: ConvergenceWarning: Stochastic Optimizer: Maximum iterations (500) reached and the optimization hasn't converged yet.\n",
      "  warnings.warn(\n"
     ]
    },
    {
     "name": "stdout",
     "output_type": "stream",
     "text": [
      "[CV] END activation=relu, hidden_layer_sizes=15, learning_rate=constant, learning_rate_init=0.0001, shuffle=True, solver=adam; total time=   5.5s\n",
      "[CV] END activation=relu, hidden_layer_sizes=15, learning_rate=constant, learning_rate_init=0.0001, shuffle=False, solver=adam; total time=   3.8s\n",
      "[CV] END activation=relu, hidden_layer_sizes=15, learning_rate=constant, learning_rate_init=0.0005, shuffle=True, solver=adam; total time=   5.8s\n",
      "[CV] END activation=relu, hidden_layer_sizes=15, learning_rate=constant, learning_rate_init=0.0005, shuffle=False, solver=adam; total time=   2.7s\n",
      "[CV] END activation=relu, hidden_layer_sizes=15, learning_rate=constant, learning_rate_init=0.001, shuffle=True, solver=adam; total time=   5.4s\n",
      "[CV] END activation=relu, hidden_layer_sizes=15, learning_rate=constant, learning_rate_init=0.001, shuffle=False, solver=adam; total time=   2.5s\n",
      "[CV] END activation=relu, hidden_layer_sizes=15, learning_rate=constant, learning_rate_init=0.005, shuffle=True, solver=adam; total time=   4.6s\n",
      "[CV] END activation=relu, hidden_layer_sizes=15, learning_rate=constant, learning_rate_init=0.005, shuffle=False, solver=adam; total time=   1.6s\n",
      "[CV] END activation=relu, hidden_layer_sizes=15, learning_rate=constant, learning_rate_init=0.01, shuffle=True, solver=adam; total time=   1.1s\n",
      "[CV] END activation=relu, hidden_layer_sizes=15, learning_rate=constant, learning_rate_init=0.01, shuffle=False, solver=adam; total time=   1.3s\n",
      "[CV] END activation=relu, hidden_layer_sizes=15, learning_rate=invscaling, learning_rate_init=0, shuffle=True, solver=adam; total time=   0.0s\n",
      "[CV] END activation=relu, hidden_layer_sizes=15, learning_rate=invscaling, learning_rate_init=0, shuffle=False, solver=adam; total time=   0.0s\n",
      "[CV] END activation=relu, hidden_layer_sizes=15, learning_rate=invscaling, learning_rate_init=0.0001, shuffle=True, solver=adam; total time=   3.6s\n"
     ]
    },
    {
     "name": "stderr",
     "output_type": "stream",
     "text": [
      "C:\\Users\\mangu\\AppData\\Local\\Programs\\Python\\Python310\\lib\\site-packages\\sklearn\\neural_network\\_multilayer_perceptron.py:686: ConvergenceWarning: Stochastic Optimizer: Maximum iterations (500) reached and the optimization hasn't converged yet.\n",
      "  warnings.warn(\n"
     ]
    },
    {
     "name": "stdout",
     "output_type": "stream",
     "text": [
      "[CV] END activation=relu, hidden_layer_sizes=15, learning_rate=invscaling, learning_rate_init=0.0001, shuffle=False, solver=adam; total time=   4.8s\n",
      "[CV] END activation=relu, hidden_layer_sizes=15, learning_rate=invscaling, learning_rate_init=0.0005, shuffle=True, solver=adam; total time=   5.9s\n",
      "[CV] END activation=relu, hidden_layer_sizes=15, learning_rate=invscaling, learning_rate_init=0.0005, shuffle=False, solver=adam; total time=   7.1s\n",
      "[CV] END activation=relu, hidden_layer_sizes=15, learning_rate=invscaling, learning_rate_init=0.001, shuffle=True, solver=adam; total time=   4.2s\n",
      "[CV] END activation=relu, hidden_layer_sizes=15, learning_rate=invscaling, learning_rate_init=0.001, shuffle=False, solver=adam; total time=   2.0s\n",
      "[CV] END activation=relu, hidden_layer_sizes=15, learning_rate=invscaling, learning_rate_init=0.005, shuffle=True, solver=adam; total time=   2.1s\n",
      "[CV] END activation=relu, hidden_layer_sizes=15, learning_rate=invscaling, learning_rate_init=0.005, shuffle=False, solver=adam; total time=   1.0s\n",
      "[CV] END activation=relu, hidden_layer_sizes=15, learning_rate=invscaling, learning_rate_init=0.01, shuffle=True, solver=adam; total time=   1.2s\n",
      "[CV] END activation=relu, hidden_layer_sizes=15, learning_rate=invscaling, learning_rate_init=0.01, shuffle=False, solver=adam; total time=   1.1s\n",
      "[CV] END activation=relu, hidden_layer_sizes=15, learning_rate=adaptive, learning_rate_init=0, shuffle=True, solver=adam; total time=   0.0s\n",
      "[CV] END activation=relu, hidden_layer_sizes=15, learning_rate=adaptive, learning_rate_init=0, shuffle=False, solver=adam; total time=   0.0s\n",
      "[CV] END activation=relu, hidden_layer_sizes=15, learning_rate=adaptive, learning_rate_init=0.0001, shuffle=True, solver=adam; total time=   3.9s\n",
      "[CV] END activation=relu, hidden_layer_sizes=15, learning_rate=adaptive, learning_rate_init=0.0001, shuffle=False, solver=adam; total time=   4.1s\n",
      "[CV] END activation=relu, hidden_layer_sizes=15, learning_rate=adaptive, learning_rate_init=0.0005, shuffle=True, solver=adam; total time=   5.7s\n",
      "[CV] END activation=relu, hidden_layer_sizes=15, learning_rate=adaptive, learning_rate_init=0.0005, shuffle=False, solver=adam; total time=   2.2s\n",
      "[CV] END activation=relu, hidden_layer_sizes=15, learning_rate=adaptive, learning_rate_init=0.001, shuffle=True, solver=adam; total time=   3.7s\n",
      "[CV] END activation=relu, hidden_layer_sizes=15, learning_rate=adaptive, learning_rate_init=0.001, shuffle=False, solver=adam; total time=   2.2s\n",
      "[CV] END activation=relu, hidden_layer_sizes=15, learning_rate=adaptive, learning_rate_init=0.005, shuffle=True, solver=adam; total time=   1.6s\n",
      "[CV] END activation=relu, hidden_layer_sizes=15, learning_rate=adaptive, learning_rate_init=0.005, shuffle=False, solver=adam; total time=   1.2s\n",
      "[CV] END activation=relu, hidden_layer_sizes=15, learning_rate=adaptive, learning_rate_init=0.01, shuffle=True, solver=adam; total time=   1.3s\n",
      "[CV] END activation=relu, hidden_layer_sizes=15, learning_rate=adaptive, learning_rate_init=0.01, shuffle=False, solver=adam; total time=   0.8s\n",
      "[CV] END activation=relu, hidden_layer_sizes=(5, 5), learning_rate=constant, learning_rate_init=0, shuffle=True, solver=adam; total time=   0.0s\n",
      "[CV] END activation=relu, hidden_layer_sizes=(5, 5), learning_rate=constant, learning_rate_init=0, shuffle=False, solver=adam; total time=   0.0s\n"
     ]
    },
    {
     "name": "stderr",
     "output_type": "stream",
     "text": [
      "C:\\Users\\mangu\\AppData\\Local\\Programs\\Python\\Python310\\lib\\site-packages\\sklearn\\neural_network\\_multilayer_perceptron.py:686: ConvergenceWarning: Stochastic Optimizer: Maximum iterations (500) reached and the optimization hasn't converged yet.\n",
      "  warnings.warn(\n"
     ]
    },
    {
     "name": "stdout",
     "output_type": "stream",
     "text": [
      "[CV] END activation=relu, hidden_layer_sizes=(5, 5), learning_rate=constant, learning_rate_init=0.0001, shuffle=True, solver=adam; total time=  13.8s\n",
      "[CV] END activation=relu, hidden_layer_sizes=(5, 5), learning_rate=constant, learning_rate_init=0.0001, shuffle=False, solver=adam; total time=   5.2s\n",
      "[CV] END activation=relu, hidden_layer_sizes=(5, 5), learning_rate=constant, learning_rate_init=0.0005, shuffle=True, solver=adam; total time=   3.5s\n",
      "[CV] END activation=relu, hidden_layer_sizes=(5, 5), learning_rate=constant, learning_rate_init=0.0005, shuffle=False, solver=adam; total time=   5.4s\n",
      "[CV] END activation=relu, hidden_layer_sizes=(5, 5), learning_rate=constant, learning_rate_init=0.001, shuffle=True, solver=adam; total time=   8.8s\n",
      "[CV] END activation=relu, hidden_layer_sizes=(5, 5), learning_rate=constant, learning_rate_init=0.001, shuffle=False, solver=adam; total time=   2.1s\n",
      "[CV] END activation=relu, hidden_layer_sizes=(5, 5), learning_rate=constant, learning_rate_init=0.005, shuffle=True, solver=adam; total time=   1.3s\n",
      "[CV] END activation=relu, hidden_layer_sizes=(5, 5), learning_rate=constant, learning_rate_init=0.005, shuffle=False, solver=adam; total time=   0.9s\n",
      "[CV] END activation=relu, hidden_layer_sizes=(5, 5), learning_rate=constant, learning_rate_init=0.01, shuffle=True, solver=adam; total time=   1.0s\n",
      "[CV] END activation=relu, hidden_layer_sizes=(5, 5), learning_rate=constant, learning_rate_init=0.01, shuffle=False, solver=adam; total time=   2.5s\n",
      "[CV] END activation=relu, hidden_layer_sizes=(5, 5), learning_rate=invscaling, learning_rate_init=0, shuffle=True, solver=adam; total time=   0.0s\n",
      "[CV] END activation=relu, hidden_layer_sizes=(5, 5), learning_rate=invscaling, learning_rate_init=0, shuffle=False, solver=adam; total time=   0.0s\n"
     ]
    },
    {
     "name": "stderr",
     "output_type": "stream",
     "text": [
      "C:\\Users\\mangu\\AppData\\Local\\Programs\\Python\\Python310\\lib\\site-packages\\sklearn\\neural_network\\_multilayer_perceptron.py:686: ConvergenceWarning: Stochastic Optimizer: Maximum iterations (500) reached and the optimization hasn't converged yet.\n",
      "  warnings.warn(\n"
     ]
    },
    {
     "name": "stdout",
     "output_type": "stream",
     "text": [
      "[CV] END activation=relu, hidden_layer_sizes=(5, 5), learning_rate=invscaling, learning_rate_init=0.0001, shuffle=True, solver=adam; total time=   7.7s\n",
      "[CV] END activation=relu, hidden_layer_sizes=(5, 5), learning_rate=invscaling, learning_rate_init=0.0001, shuffle=False, solver=adam; total time=   6.0s\n",
      "[CV] END activation=relu, hidden_layer_sizes=(5, 5), learning_rate=invscaling, learning_rate_init=0.0005, shuffle=True, solver=adam; total time=   3.1s\n",
      "[CV] END activation=relu, hidden_layer_sizes=(5, 5), learning_rate=invscaling, learning_rate_init=0.0005, shuffle=False, solver=adam; total time=   2.1s\n",
      "[CV] END activation=relu, hidden_layer_sizes=(5, 5), learning_rate=invscaling, learning_rate_init=0.001, shuffle=True, solver=adam; total time=   3.7s\n",
      "[CV] END activation=relu, hidden_layer_sizes=(5, 5), learning_rate=invscaling, learning_rate_init=0.001, shuffle=False, solver=adam; total time=   3.9s\n",
      "[CV] END activation=relu, hidden_layer_sizes=(5, 5), learning_rate=invscaling, learning_rate_init=0.005, shuffle=True, solver=adam; total time=   1.6s\n",
      "[CV] END activation=relu, hidden_layer_sizes=(5, 5), learning_rate=invscaling, learning_rate_init=0.005, shuffle=False, solver=adam; total time=   2.9s\n",
      "[CV] END activation=relu, hidden_layer_sizes=(5, 5), learning_rate=invscaling, learning_rate_init=0.01, shuffle=True, solver=adam; total time=   1.3s\n",
      "[CV] END activation=relu, hidden_layer_sizes=(5, 5), learning_rate=invscaling, learning_rate_init=0.01, shuffle=False, solver=adam; total time=   0.5s\n",
      "[CV] END activation=relu, hidden_layer_sizes=(5, 5), learning_rate=adaptive, learning_rate_init=0, shuffle=True, solver=adam; total time=   0.0s\n",
      "[CV] END activation=relu, hidden_layer_sizes=(5, 5), learning_rate=adaptive, learning_rate_init=0, shuffle=False, solver=adam; total time=   0.0s\n",
      "[CV] END activation=relu, hidden_layer_sizes=(5, 5), learning_rate=adaptive, learning_rate_init=0.0001, shuffle=True, solver=adam; total time=   5.3s\n"
     ]
    },
    {
     "name": "stderr",
     "output_type": "stream",
     "text": [
      "C:\\Users\\mangu\\AppData\\Local\\Programs\\Python\\Python310\\lib\\site-packages\\sklearn\\neural_network\\_multilayer_perceptron.py:686: ConvergenceWarning: Stochastic Optimizer: Maximum iterations (500) reached and the optimization hasn't converged yet.\n",
      "  warnings.warn(\n"
     ]
    },
    {
     "name": "stdout",
     "output_type": "stream",
     "text": [
      "[CV] END activation=relu, hidden_layer_sizes=(5, 5), learning_rate=adaptive, learning_rate_init=0.0001, shuffle=False, solver=adam; total time=   8.4s\n",
      "[CV] END activation=relu, hidden_layer_sizes=(5, 5), learning_rate=adaptive, learning_rate_init=0.0005, shuffle=True, solver=adam; total time=   5.0s\n",
      "[CV] END activation=relu, hidden_layer_sizes=(5, 5), learning_rate=adaptive, learning_rate_init=0.0005, shuffle=False, solver=adam; total time=   2.9s\n",
      "[CV] END activation=relu, hidden_layer_sizes=(5, 5), learning_rate=adaptive, learning_rate_init=0.001, shuffle=True, solver=adam; total time=   4.0s\n",
      "[CV] END activation=relu, hidden_layer_sizes=(5, 5), learning_rate=adaptive, learning_rate_init=0.001, shuffle=False, solver=adam; total time=   3.4s\n",
      "[CV] END activation=relu, hidden_layer_sizes=(5, 5), learning_rate=adaptive, learning_rate_init=0.005, shuffle=True, solver=adam; total time=   0.5s\n",
      "[CV] END activation=relu, hidden_layer_sizes=(5, 5), learning_rate=adaptive, learning_rate_init=0.005, shuffle=False, solver=adam; total time=   1.9s\n",
      "[CV] END activation=relu, hidden_layer_sizes=(5, 5), learning_rate=adaptive, learning_rate_init=0.01, shuffle=True, solver=adam; total time=   1.3s\n",
      "[CV] END activation=relu, hidden_layer_sizes=(5, 5), learning_rate=adaptive, learning_rate_init=0.01, shuffle=False, solver=adam; total time=   1.7s\n",
      "[CV] END activation=relu, hidden_layer_sizes=(5, 10), learning_rate=constant, learning_rate_init=0, shuffle=True, solver=adam; total time=   0.0s\n",
      "[CV] END activation=relu, hidden_layer_sizes=(5, 10), learning_rate=constant, learning_rate_init=0, shuffle=False, solver=adam; total time=   0.0s\n",
      "[CV] END activation=relu, hidden_layer_sizes=(5, 10), learning_rate=constant, learning_rate_init=0.0001, shuffle=True, solver=adam; total time=   1.3s\n",
      "[CV] END activation=relu, hidden_layer_sizes=(5, 10), learning_rate=constant, learning_rate_init=0.0001, shuffle=False, solver=adam; total time=   4.0s\n"
     ]
    },
    {
     "name": "stderr",
     "output_type": "stream",
     "text": [
      "C:\\Users\\mangu\\AppData\\Local\\Programs\\Python\\Python310\\lib\\site-packages\\sklearn\\neural_network\\_multilayer_perceptron.py:686: ConvergenceWarning: Stochastic Optimizer: Maximum iterations (500) reached and the optimization hasn't converged yet.\n",
      "  warnings.warn(\n"
     ]
    },
    {
     "name": "stdout",
     "output_type": "stream",
     "text": [
      "[CV] END activation=relu, hidden_layer_sizes=(5, 10), learning_rate=constant, learning_rate_init=0.0005, shuffle=True, solver=adam; total time=   8.7s\n",
      "[CV] END activation=relu, hidden_layer_sizes=(5, 10), learning_rate=constant, learning_rate_init=0.0005, shuffle=False, solver=adam; total time=   2.6s\n",
      "[CV] END activation=relu, hidden_layer_sizes=(5, 10), learning_rate=constant, learning_rate_init=0.001, shuffle=True, solver=adam; total time=   6.0s\n",
      "[CV] END activation=relu, hidden_layer_sizes=(5, 10), learning_rate=constant, learning_rate_init=0.001, shuffle=False, solver=adam; total time=   3.2s\n",
      "[CV] END activation=relu, hidden_layer_sizes=(5, 10), learning_rate=constant, learning_rate_init=0.005, shuffle=True, solver=adam; total time=   1.4s\n",
      "[CV] END activation=relu, hidden_layer_sizes=(5, 10), learning_rate=constant, learning_rate_init=0.005, shuffle=False, solver=adam; total time=   2.6s\n",
      "[CV] END activation=relu, hidden_layer_sizes=(5, 10), learning_rate=constant, learning_rate_init=0.01, shuffle=True, solver=adam; total time=   0.7s\n",
      "[CV] END activation=relu, hidden_layer_sizes=(5, 10), learning_rate=constant, learning_rate_init=0.01, shuffle=False, solver=adam; total time=   1.6s\n",
      "[CV] END activation=relu, hidden_layer_sizes=(5, 10), learning_rate=invscaling, learning_rate_init=0, shuffle=True, solver=adam; total time=   0.0s\n",
      "[CV] END activation=relu, hidden_layer_sizes=(5, 10), learning_rate=invscaling, learning_rate_init=0, shuffle=False, solver=adam; total time=   0.0s\n",
      "[CV] END activation=relu, hidden_layer_sizes=(5, 10), learning_rate=invscaling, learning_rate_init=0.0001, shuffle=True, solver=adam; total time=   5.5s\n",
      "[CV] END activation=relu, hidden_layer_sizes=(5, 10), learning_rate=invscaling, learning_rate_init=0.0001, shuffle=False, solver=adam; total time=   7.3s\n",
      "[CV] END activation=relu, hidden_layer_sizes=(5, 10), learning_rate=invscaling, learning_rate_init=0.0005, shuffle=True, solver=adam; total time=   5.5s\n",
      "[CV] END activation=relu, hidden_layer_sizes=(5, 10), learning_rate=invscaling, learning_rate_init=0.0005, shuffle=False, solver=adam; total time=   4.4s\n",
      "[CV] END activation=relu, hidden_layer_sizes=(5, 10), learning_rate=invscaling, learning_rate_init=0.001, shuffle=True, solver=adam; total time=   4.3s\n",
      "[CV] END activation=relu, hidden_layer_sizes=(5, 10), learning_rate=invscaling, learning_rate_init=0.001, shuffle=False, solver=adam; total time=   2.2s\n",
      "[CV] END activation=relu, hidden_layer_sizes=(5, 10), learning_rate=invscaling, learning_rate_init=0.005, shuffle=True, solver=adam; total time=   1.9s\n",
      "[CV] END activation=relu, hidden_layer_sizes=(5, 10), learning_rate=invscaling, learning_rate_init=0.005, shuffle=False, solver=adam; total time=   4.5s\n",
      "[CV] END activation=relu, hidden_layer_sizes=(5, 10), learning_rate=invscaling, learning_rate_init=0.01, shuffle=True, solver=adam; total time=   2.4s\n",
      "[CV] END activation=relu, hidden_layer_sizes=(5, 10), learning_rate=invscaling, learning_rate_init=0.01, shuffle=False, solver=adam; total time=   2.2s\n",
      "[CV] END activation=relu, hidden_layer_sizes=(5, 10), learning_rate=adaptive, learning_rate_init=0, shuffle=True, solver=adam; total time=   0.0s\n",
      "[CV] END activation=relu, hidden_layer_sizes=(5, 10), learning_rate=adaptive, learning_rate_init=0, shuffle=False, solver=adam; total time=   0.0s\n",
      "[CV] END activation=relu, hidden_layer_sizes=(5, 10), learning_rate=adaptive, learning_rate_init=0.0001, shuffle=True, solver=adam; total time=   5.4s\n",
      "[CV] END activation=relu, hidden_layer_sizes=(5, 10), learning_rate=adaptive, learning_rate_init=0.0001, shuffle=False, solver=adam; total time=   5.3s\n",
      "[CV] END activation=relu, hidden_layer_sizes=(5, 10), learning_rate=adaptive, learning_rate_init=0.0005, shuffle=True, solver=adam; total time=   7.3s\n",
      "[CV] END activation=relu, hidden_layer_sizes=(5, 10), learning_rate=adaptive, learning_rate_init=0.0005, shuffle=False, solver=adam; total time=   7.2s\n",
      "[CV] END activation=relu, hidden_layer_sizes=(5, 10), learning_rate=adaptive, learning_rate_init=0.001, shuffle=True, solver=adam; total time=   4.2s\n",
      "[CV] END activation=relu, hidden_layer_sizes=(5, 10), learning_rate=adaptive, learning_rate_init=0.001, shuffle=False, solver=adam; total time=   2.9s\n",
      "[CV] END activation=relu, hidden_layer_sizes=(5, 10), learning_rate=adaptive, learning_rate_init=0.005, shuffle=True, solver=adam; total time=   3.3s\n",
      "[CV] END activation=relu, hidden_layer_sizes=(5, 10), learning_rate=adaptive, learning_rate_init=0.005, shuffle=False, solver=adam; total time=   2.0s\n",
      "[CV] END activation=relu, hidden_layer_sizes=(5, 10), learning_rate=adaptive, learning_rate_init=0.01, shuffle=True, solver=adam; total time=   1.1s\n",
      "[CV] END activation=relu, hidden_layer_sizes=(5, 10), learning_rate=adaptive, learning_rate_init=0.01, shuffle=False, solver=adam; total time=   1.1s\n",
      "[CV] END activation=relu, hidden_layer_sizes=(5, 10, 15, 20), learning_rate=constant, learning_rate_init=0, shuffle=True, solver=adam; total time=   0.0s\n",
      "[CV] END activation=relu, hidden_layer_sizes=(5, 10, 15, 20), learning_rate=constant, learning_rate_init=0, shuffle=False, solver=adam; total time=   0.0s\n",
      "[CV] END activation=relu, hidden_layer_sizes=(5, 10, 15, 20), learning_rate=constant, learning_rate_init=0.0001, shuffle=True, solver=adam; total time=  11.7s\n",
      "[CV] END activation=relu, hidden_layer_sizes=(5, 10, 15, 20), learning_rate=constant, learning_rate_init=0.0001, shuffle=False, solver=adam; total time=   9.6s\n",
      "[CV] END activation=relu, hidden_layer_sizes=(5, 10, 15, 20), learning_rate=constant, learning_rate_init=0.0005, shuffle=True, solver=adam; total time=   6.5s\n",
      "[CV] END activation=relu, hidden_layer_sizes=(5, 10, 15, 20), learning_rate=constant, learning_rate_init=0.0005, shuffle=False, solver=adam; total time=   4.9s\n",
      "[CV] END activation=relu, hidden_layer_sizes=(5, 10, 15, 20), learning_rate=constant, learning_rate_init=0.001, shuffle=True, solver=adam; total time=   8.9s\n",
      "[CV] END activation=relu, hidden_layer_sizes=(5, 10, 15, 20), learning_rate=constant, learning_rate_init=0.001, shuffle=False, solver=adam; total time=   5.6s\n",
      "[CV] END activation=relu, hidden_layer_sizes=(5, 10, 15, 20), learning_rate=constant, learning_rate_init=0.005, shuffle=True, solver=adam; total time=   1.6s\n",
      "[CV] END activation=relu, hidden_layer_sizes=(5, 10, 15, 20), learning_rate=constant, learning_rate_init=0.005, shuffle=False, solver=adam; total time=   2.8s\n",
      "[CV] END activation=relu, hidden_layer_sizes=(5, 10, 15, 20), learning_rate=constant, learning_rate_init=0.01, shuffle=True, solver=adam; total time=   1.7s\n",
      "[CV] END activation=relu, hidden_layer_sizes=(5, 10, 15, 20), learning_rate=constant, learning_rate_init=0.01, shuffle=False, solver=adam; total time=   2.9s\n",
      "[CV] END activation=relu, hidden_layer_sizes=(5, 10, 15, 20), learning_rate=invscaling, learning_rate_init=0, shuffle=True, solver=adam; total time=   0.0s\n",
      "[CV] END activation=relu, hidden_layer_sizes=(5, 10, 15, 20), learning_rate=invscaling, learning_rate_init=0, shuffle=False, solver=adam; total time=   0.0s\n"
     ]
    },
    {
     "name": "stderr",
     "output_type": "stream",
     "text": [
      "C:\\Users\\mangu\\AppData\\Local\\Programs\\Python\\Python310\\lib\\site-packages\\sklearn\\neural_network\\_multilayer_perceptron.py:686: ConvergenceWarning: Stochastic Optimizer: Maximum iterations (500) reached and the optimization hasn't converged yet.\n",
      "  warnings.warn(\n"
     ]
    },
    {
     "name": "stdout",
     "output_type": "stream",
     "text": [
      "[CV] END activation=relu, hidden_layer_sizes=(5, 10, 15, 20), learning_rate=invscaling, learning_rate_init=0.0001, shuffle=True, solver=adam; total time=  15.3s\n",
      "[CV] END activation=relu, hidden_layer_sizes=(5, 10, 15, 20), learning_rate=invscaling, learning_rate_init=0.0001, shuffle=False, solver=adam; total time=   6.8s\n",
      "[CV] END activation=relu, hidden_layer_sizes=(5, 10, 15, 20), learning_rate=invscaling, learning_rate_init=0.0005, shuffle=True, solver=adam; total time=  15.4s\n",
      "[CV] END activation=relu, hidden_layer_sizes=(5, 10, 15, 20), learning_rate=invscaling, learning_rate_init=0.0005, shuffle=False, solver=adam; total time=   7.9s\n",
      "[CV] END activation=relu, hidden_layer_sizes=(5, 10, 15, 20), learning_rate=invscaling, learning_rate_init=0.001, shuffle=True, solver=adam; total time=   6.1s\n",
      "[CV] END activation=relu, hidden_layer_sizes=(5, 10, 15, 20), learning_rate=invscaling, learning_rate_init=0.001, shuffle=False, solver=adam; total time=   6.4s\n",
      "[CV] END activation=relu, hidden_layer_sizes=(5, 10, 15, 20), learning_rate=invscaling, learning_rate_init=0.005, shuffle=True, solver=adam; total time=   4.6s\n",
      "[CV] END activation=relu, hidden_layer_sizes=(5, 10, 15, 20), learning_rate=invscaling, learning_rate_init=0.005, shuffle=False, solver=adam; total time=   4.9s\n",
      "[CV] END activation=relu, hidden_layer_sizes=(5, 10, 15, 20), learning_rate=invscaling, learning_rate_init=0.01, shuffle=True, solver=adam; total time=   2.5s\n",
      "[CV] END activation=relu, hidden_layer_sizes=(5, 10, 15, 20), learning_rate=invscaling, learning_rate_init=0.01, shuffle=False, solver=adam; total time=   1.8s\n",
      "[CV] END activation=relu, hidden_layer_sizes=(5, 10, 15, 20), learning_rate=adaptive, learning_rate_init=0, shuffle=True, solver=adam; total time=   0.0s\n",
      "[CV] END activation=relu, hidden_layer_sizes=(5, 10, 15, 20), learning_rate=adaptive, learning_rate_init=0, shuffle=False, solver=adam; total time=   0.0s\n",
      "[CV] END activation=relu, hidden_layer_sizes=(5, 10, 15, 20), learning_rate=adaptive, learning_rate_init=0.0001, shuffle=True, solver=adam; total time=  15.1s\n",
      "[CV] END activation=relu, hidden_layer_sizes=(5, 10, 15, 20), learning_rate=adaptive, learning_rate_init=0.0001, shuffle=False, solver=adam; total time=  10.6s\n",
      "[CV] END activation=relu, hidden_layer_sizes=(5, 10, 15, 20), learning_rate=adaptive, learning_rate_init=0.0005, shuffle=True, solver=adam; total time=   4.3s\n",
      "[CV] END activation=relu, hidden_layer_sizes=(5, 10, 15, 20), learning_rate=adaptive, learning_rate_init=0.0005, shuffle=False, solver=adam; total time=   5.2s\n",
      "[CV] END activation=relu, hidden_layer_sizes=(5, 10, 15, 20), learning_rate=adaptive, learning_rate_init=0.001, shuffle=True, solver=adam; total time=   9.2s\n",
      "[CV] END activation=relu, hidden_layer_sizes=(5, 10, 15, 20), learning_rate=adaptive, learning_rate_init=0.001, shuffle=False, solver=adam; total time=   3.4s\n",
      "[CV] END activation=relu, hidden_layer_sizes=(5, 10, 15, 20), learning_rate=adaptive, learning_rate_init=0.005, shuffle=True, solver=adam; total time=   1.9s\n",
      "[CV] END activation=relu, hidden_layer_sizes=(5, 10, 15, 20), learning_rate=adaptive, learning_rate_init=0.005, shuffle=False, solver=adam; total time=   3.2s\n",
      "[CV] END activation=relu, hidden_layer_sizes=(5, 10, 15, 20), learning_rate=adaptive, learning_rate_init=0.01, shuffle=True, solver=adam; total time=   1.8s\n",
      "[CV] END activation=relu, hidden_layer_sizes=(5, 10, 15, 20), learning_rate=adaptive, learning_rate_init=0.01, shuffle=False, solver=adam; total time=   2.4s\n",
      "[CV] END activation=relu, hidden_layer_sizes=(5, 15, 30, 50), learning_rate=constant, learning_rate_init=0, shuffle=True, solver=adam; total time=   0.0s\n",
      "[CV] END activation=relu, hidden_layer_sizes=(5, 15, 30, 50), learning_rate=constant, learning_rate_init=0, shuffle=False, solver=adam; total time=   0.0s\n",
      "[CV] END activation=relu, hidden_layer_sizes=(5, 15, 30, 50), learning_rate=constant, learning_rate_init=0.0001, shuffle=True, solver=adam; total time=  31.5s\n",
      "[CV] END activation=relu, hidden_layer_sizes=(5, 15, 30, 50), learning_rate=constant, learning_rate_init=0.0001, shuffle=False, solver=adam; total time=  38.7s\n",
      "[CV] END activation=relu, hidden_layer_sizes=(5, 15, 30, 50), learning_rate=constant, learning_rate_init=0.0005, shuffle=True, solver=adam; total time=  32.0s\n",
      "[CV] END activation=relu, hidden_layer_sizes=(5, 15, 30, 50), learning_rate=constant, learning_rate_init=0.0005, shuffle=False, solver=adam; total time=  18.8s\n",
      "[CV] END activation=relu, hidden_layer_sizes=(5, 15, 30, 50), learning_rate=constant, learning_rate_init=0.001, shuffle=True, solver=adam; total time=  19.5s\n",
      "[CV] END activation=relu, hidden_layer_sizes=(5, 15, 30, 50), learning_rate=constant, learning_rate_init=0.001, shuffle=False, solver=adam; total time=  20.0s\n",
      "[CV] END activation=relu, hidden_layer_sizes=(5, 15, 30, 50), learning_rate=constant, learning_rate_init=0.005, shuffle=True, solver=adam; total time=  10.4s\n",
      "[CV] END activation=relu, hidden_layer_sizes=(5, 15, 30, 50), learning_rate=constant, learning_rate_init=0.005, shuffle=False, solver=adam; total time=   9.2s\n",
      "[CV] END activation=relu, hidden_layer_sizes=(5, 15, 30, 50), learning_rate=constant, learning_rate_init=0.01, shuffle=True, solver=adam; total time=   3.6s\n",
      "[CV] END activation=relu, hidden_layer_sizes=(5, 15, 30, 50), learning_rate=constant, learning_rate_init=0.01, shuffle=False, solver=adam; total time=  10.0s\n",
      "[CV] END activation=relu, hidden_layer_sizes=(5, 15, 30, 50), learning_rate=invscaling, learning_rate_init=0, shuffle=True, solver=adam; total time=   0.0s\n",
      "[CV] END activation=relu, hidden_layer_sizes=(5, 15, 30, 50), learning_rate=invscaling, learning_rate_init=0, shuffle=False, solver=adam; total time=   0.0s\n"
     ]
    },
    {
     "name": "stderr",
     "output_type": "stream",
     "text": [
      "C:\\Users\\mangu\\AppData\\Local\\Programs\\Python\\Python310\\lib\\site-packages\\sklearn\\neural_network\\_multilayer_perceptron.py:686: ConvergenceWarning: Stochastic Optimizer: Maximum iterations (500) reached and the optimization hasn't converged yet.\n",
      "  warnings.warn(\n"
     ]
    },
    {
     "name": "stdout",
     "output_type": "stream",
     "text": [
      "[CV] END activation=relu, hidden_layer_sizes=(5, 15, 30, 50), learning_rate=invscaling, learning_rate_init=0.0001, shuffle=True, solver=adam; total time=  47.7s\n",
      "[CV] END activation=relu, hidden_layer_sizes=(5, 15, 30, 50), learning_rate=invscaling, learning_rate_init=0.0001, shuffle=False, solver=adam; total time=  46.6s\n",
      "[CV] END activation=relu, hidden_layer_sizes=(5, 15, 30, 50), learning_rate=invscaling, learning_rate_init=0.0005, shuffle=True, solver=adam; total time=  28.5s\n",
      "[CV] END activation=relu, hidden_layer_sizes=(5, 15, 30, 50), learning_rate=invscaling, learning_rate_init=0.0005, shuffle=False, solver=adam; total time=  13.0s\n",
      "[CV] END activation=relu, hidden_layer_sizes=(5, 15, 30, 50), learning_rate=invscaling, learning_rate_init=0.001, shuffle=True, solver=adam; total time=  16.5s\n",
      "[CV] END activation=relu, hidden_layer_sizes=(5, 15, 30, 50), learning_rate=invscaling, learning_rate_init=0.001, shuffle=False, solver=adam; total time=  15.8s\n",
      "[CV] END activation=relu, hidden_layer_sizes=(5, 15, 30, 50), learning_rate=invscaling, learning_rate_init=0.005, shuffle=True, solver=adam; total time=  15.6s\n",
      "[CV] END activation=relu, hidden_layer_sizes=(5, 15, 30, 50), learning_rate=invscaling, learning_rate_init=0.005, shuffle=False, solver=adam; total time=  11.5s\n",
      "[CV] END activation=relu, hidden_layer_sizes=(5, 15, 30, 50), learning_rate=invscaling, learning_rate_init=0.01, shuffle=True, solver=adam; total time=   9.6s\n",
      "[CV] END activation=relu, hidden_layer_sizes=(5, 15, 30, 50), learning_rate=invscaling, learning_rate_init=0.01, shuffle=False, solver=adam; total time=   7.8s\n",
      "[CV] END activation=relu, hidden_layer_sizes=(5, 15, 30, 50), learning_rate=adaptive, learning_rate_init=0, shuffle=True, solver=adam; total time=   0.0s\n",
      "[CV] END activation=relu, hidden_layer_sizes=(5, 15, 30, 50), learning_rate=adaptive, learning_rate_init=0, shuffle=False, solver=adam; total time=   0.0s\n",
      "[CV] END activation=relu, hidden_layer_sizes=(5, 15, 30, 50), learning_rate=adaptive, learning_rate_init=0.0001, shuffle=True, solver=adam; total time=  27.3s\n",
      "[CV] END activation=relu, hidden_layer_sizes=(5, 15, 30, 50), learning_rate=adaptive, learning_rate_init=0.0001, shuffle=False, solver=adam; total time=  42.3s\n",
      "[CV] END activation=relu, hidden_layer_sizes=(5, 15, 30, 50), learning_rate=adaptive, learning_rate_init=0.0005, shuffle=True, solver=adam; total time=  22.6s\n",
      "[CV] END activation=relu, hidden_layer_sizes=(5, 15, 30, 50), learning_rate=adaptive, learning_rate_init=0.0005, shuffle=False, solver=adam; total time=  19.2s\n",
      "[CV] END activation=relu, hidden_layer_sizes=(5, 15, 30, 50), learning_rate=adaptive, learning_rate_init=0.001, shuffle=True, solver=adam; total time=  14.3s\n",
      "[CV] END activation=relu, hidden_layer_sizes=(5, 15, 30, 50), learning_rate=adaptive, learning_rate_init=0.001, shuffle=False, solver=adam; total time=  22.9s\n",
      "[CV] END activation=relu, hidden_layer_sizes=(5, 15, 30, 50), learning_rate=adaptive, learning_rate_init=0.005, shuffle=True, solver=adam; total time=  16.6s\n",
      "[CV] END activation=relu, hidden_layer_sizes=(5, 15, 30, 50), learning_rate=adaptive, learning_rate_init=0.005, shuffle=False, solver=adam; total time=   5.8s\n",
      "[CV] END activation=relu, hidden_layer_sizes=(5, 15, 30, 50), learning_rate=adaptive, learning_rate_init=0.01, shuffle=True, solver=adam; total time=   6.8s\n",
      "[CV] END activation=relu, hidden_layer_sizes=(5, 15, 30, 50), learning_rate=adaptive, learning_rate_init=0.01, shuffle=False, solver=adam; total time=   6.3s\n"
     ]
    },
    {
     "name": "stderr",
     "output_type": "stream",
     "text": [
      "C:\\Users\\mangu\\AppData\\Local\\Programs\\Python\\Python310\\lib\\site-packages\\sklearn\\model_selection\\_validation.py:378: FitFailedWarning: \n",
      "84 fits failed out of a total of 504.\n",
      "The score on these train-test partitions for these parameters will be set to nan.\n",
      "If these failures are not expected, you can try to debug them by setting error_score='raise'.\n",
      "\n",
      "Below are more details about the failures:\n",
      "--------------------------------------------------------------------------------\n",
      "84 fits failed with the following error:\n",
      "Traceback (most recent call last):\n",
      "  File \"C:\\Users\\mangu\\AppData\\Local\\Programs\\Python\\Python310\\lib\\site-packages\\sklearn\\model_selection\\_validation.py\", line 686, in _fit_and_score\n",
      "    estimator.fit(X_train, y_train, **fit_params)\n",
      "  File \"C:\\Users\\mangu\\AppData\\Local\\Programs\\Python\\Python310\\lib\\site-packages\\sklearn\\neural_network\\_multilayer_perceptron.py\", line 747, in fit\n",
      "    self._validate_params()\n",
      "  File \"C:\\Users\\mangu\\AppData\\Local\\Programs\\Python\\Python310\\lib\\site-packages\\sklearn\\base.py\", line 600, in _validate_params\n",
      "    validate_parameter_constraints(\n",
      "  File \"C:\\Users\\mangu\\AppData\\Local\\Programs\\Python\\Python310\\lib\\site-packages\\sklearn\\utils\\_param_validation.py\", line 97, in validate_parameter_constraints\n",
      "    raise InvalidParameterError(\n",
      "sklearn.utils._param_validation.InvalidParameterError: The 'learning_rate_init' parameter of MLPClassifier must be a float in the range (0, inf). Got 0 instead.\n",
      "\n",
      "  warnings.warn(some_fits_failed_message, FitFailedWarning)\n",
      "C:\\Users\\mangu\\AppData\\Local\\Programs\\Python\\Python310\\lib\\site-packages\\sklearn\\model_selection\\_search.py:952: UserWarning: One or more of the test scores are non-finite: [     nan      nan 0.80875  0.806875 0.84     0.845625 0.8575   0.848125\n",
      " 0.86375  0.856875 0.863125 0.86375       nan      nan 0.808125 0.804375\n",
      " 0.80875  0.840625 0.860625 0.848125 0.86     0.865    0.86375  0.864375\n",
      "      nan      nan 0.806875 0.8      0.849375 0.841875 0.861875 0.854375\n",
      " 0.859375 0.8625   0.85875  0.86375       nan      nan 0.80125  0.808125\n",
      " 0.85375  0.84875  0.858125 0.855625 0.8625   0.863125 0.86375  0.865625\n",
      "      nan      nan 0.80875  0.803125 0.853125 0.845625 0.861875 0.8525\n",
      " 0.860625 0.863125 0.87125  0.865625      nan      nan 0.80375  0.805\n",
      " 0.853125 0.85375  0.85875  0.8575   0.860625 0.86625  0.86125  0.864375\n",
      "      nan      nan 0.805625 0.80375  0.856875 0.85     0.8625   0.86\n",
      " 0.863125 0.865625 0.861875 0.866875      nan      nan 0.805625 0.805625\n",
      " 0.855    0.85375  0.858125 0.859375 0.858125 0.861875 0.86     0.8625\n",
      "      nan      nan 0.805625 0.808125 0.855625 0.848125 0.8625   0.85625\n",
      " 0.8575   0.865625 0.866875 0.863125      nan      nan 0.81875  0.815\n",
      " 0.864375 0.85     0.86375  0.86125  0.85875  0.866875 0.858125 0.86125\n",
      "      nan      nan 0.81375  0.8125   0.84375  0.856875 0.865625 0.85625\n",
      " 0.863125 0.8675   0.86375  0.86375       nan      nan 0.816875 0.811875\n",
      " 0.854375 0.848125 0.860625 0.86375  0.861875 0.86125  0.859375 0.861875\n",
      "      nan      nan 0.8075   0.806875 0.86375  0.85375  0.86     0.863125\n",
      " 0.86     0.868125 0.865    0.861875      nan      nan 0.81375  0.811875\n",
      " 0.860625 0.845625 0.86125  0.856875 0.865    0.8675   0.865625 0.86375\n",
      "      nan      nan 0.806875 0.810625 0.8425   0.85375  0.861875 0.855\n",
      " 0.8675   0.8575   0.86125  0.865625      nan      nan 0.83375  0.846875\n",
      " 0.8575   0.85625  0.84125  0.866875 0.864375 0.865625 0.85625  0.86125\n",
      "      nan      nan 0.83375  0.81     0.860625 0.839375 0.858125 0.839375\n",
      " 0.865    0.87     0.8675   0.85875       nan      nan 0.825    0.8125\n",
      " 0.861875 0.86375  0.859375 0.86375  0.861875 0.8675   0.86625  0.8575\n",
      "      nan      nan 0.833125 0.8175   0.86     0.86125  0.8575   0.8575\n",
      " 0.84625  0.849375 0.841875 0.8575        nan      nan 0.8325   0.814375\n",
      " 0.864375 0.86     0.865625 0.858125 0.858125 0.851875 0.849375 0.866875\n",
      "      nan      nan 0.82     0.813125 0.86125  0.86375  0.858125 0.855625\n",
      " 0.856875 0.8675   0.86     0.850625      nan      nan 0.803125 0.799375\n",
      " 0.81125  0.826875 0.86375  0.836875 0.850625 0.860625 0.841875 0.866875\n",
      "      nan      nan 0.790625 0.79875  0.84     0.833125 0.834375 0.8325\n",
      " 0.859375 0.858125 0.86375  0.846875      nan      nan 0.8025   0.80125\n",
      " 0.83375  0.824375 0.83625  0.8575   0.86     0.840625 0.863125 0.846875\n",
      "      nan      nan 0.806875 0.815    0.8625   0.8125   0.861875 0.860625\n",
      " 0.861875 0.865625 0.865    0.86375       nan      nan 0.806875 0.80375\n",
      " 0.8625   0.853125 0.860625 0.860625 0.859375 0.85875  0.8625   0.839375\n",
      "      nan      nan 0.805625 0.81     0.849375 0.850625 0.861875 0.855625\n",
      " 0.869375 0.865625 0.864375 0.865625      nan      nan 0.8125   0.811875\n",
      " 0.859375 0.856875 0.86625  0.8525   0.866875 0.863125 0.863125 0.869375\n",
      "      nan      nan 0.805    0.8225   0.856875 0.856875 0.861875 0.86375\n",
      " 0.865    0.866875 0.863125 0.864375      nan      nan 0.8025   0.808125\n",
      " 0.8575   0.8525   0.856875 0.8525   0.864375 0.864375 0.864375 0.86625\n",
      "      nan      nan 0.84625  0.8      0.836875 0.85     0.8625   0.854375\n",
      " 0.859375 0.870625 0.858125 0.86125       nan      nan 0.829375 0.790625\n",
      " 0.84125  0.84375  0.853125 0.851875 0.859375 0.8575   0.86375  0.838125\n",
      "      nan      nan 0.790625 0.826875 0.8625   0.83125  0.860625 0.853125\n",
      " 0.80875  0.84     0.84125  0.87          nan      nan 0.790625 0.81625\n",
      " 0.85875  0.84125  0.865625 0.845625 0.85875  0.85875  0.8375   0.843125\n",
      "      nan      nan 0.809375 0.804375 0.86375  0.85375  0.859375 0.8375\n",
      " 0.854375 0.8625   0.8625   0.869375      nan      nan 0.815625 0.819375\n",
      " 0.855    0.85625  0.8675   0.839375 0.869375 0.86125  0.861875 0.86875\n",
      "      nan      nan 0.80625  0.84     0.864375 0.860625 0.8625   0.86375\n",
      " 0.840625 0.86375  0.85     0.858125      nan      nan 0.811875 0.816875\n",
      " 0.86375  0.859375 0.855625 0.855    0.871875 0.860625 0.86625  0.84625\n",
      "      nan      nan 0.843125 0.836875 0.853125 0.840625 0.85875  0.864375\n",
      " 0.840625 0.85625  0.86     0.865625      nan      nan 0.806875 0.813125\n",
      " 0.85375  0.858125 0.859375 0.860625 0.866875 0.866875 0.851875 0.86125\n",
      "      nan      nan 0.83875  0.856875 0.86125  0.854375 0.865625 0.859375\n",
      " 0.859375 0.86     0.83375  0.8525        nan      nan 0.81625  0.84375\n",
      " 0.85875  0.849375 0.86375  0.861875 0.866875 0.85     0.83125  0.860625]\n",
      "  warnings.warn(\n"
     ]
    },
    {
     "name": "stdout",
     "output_type": "stream",
     "text": [
      "Score:  0.871875\n",
      "Best Params:  {'activation': 'relu', 'hidden_layer_sizes': (5, 10, 15, 20), 'learning_rate': 'invscaling', 'learning_rate_init': 0.005, 'shuffle': True, 'solver': 'adam'}\n"
     ]
    }
   ],
   "source": [
    "cv = ShuffleSplit(n_splits=1, random_state=0, test_size=0.2)\n",
    "grid2 = {\n",
    "    'hidden_layer_sizes' :[5,10,15,(5,5),(5,10),(5,10,15,20),(5,15,30,50)],\n",
    "    'activation': ['tanh','relu'],\n",
    "    'solver' : ['adam'],\n",
    "    'learning_rate': ['constant', 'invscaling', 'adaptive'],\n",
    "    'learning_rate_init' : [0,0.0001,0.0005,0.001,0.005,0.01],\n",
    "    'shuffle' : [True, False]\n",
    "}\n",
    "gridSearch1 = GridSearchCV(MLP(max_iter = 500), param_grid=grid2, cv = cv, scoring=['accuracy'], refit ='accuracy', verbose=2)\n",
    "gridSearch1.fit(X_train,y_train)\n",
    "print('Score: ', gridSearch1.best_score_)\n",
    "print('Best Params: ', gridSearch1.best_params_)"
   ]
  },
  {
   "cell_type": "code",
   "execution_count": null,
   "id": "c4f2293c",
   "metadata": {},
   "outputs": [],
   "source": []
  }
 ],
 "metadata": {
  "kernelspec": {
   "display_name": "Python 3 (ipykernel)",
   "language": "python",
   "name": "python3"
  },
  "language_info": {
   "codemirror_mode": {
    "name": "ipython",
    "version": 3
   },
   "file_extension": ".py",
   "mimetype": "text/x-python",
   "name": "python",
   "nbconvert_exporter": "python",
   "pygments_lexer": "ipython3",
   "version": "3.10.10"
  }
 },
 "nbformat": 4,
 "nbformat_minor": 5
}
